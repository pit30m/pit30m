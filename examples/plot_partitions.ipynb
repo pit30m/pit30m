{
 "cells": [
  {
   "cell_type": "code",
   "execution_count": 1,
   "metadata": {},
   "outputs": [],
   "source": [
    "from tqdm import tqdm\n",
    "import glob\n",
    "import numpy as np\n",
    "from uuid import UUID\n",
    "import lz4\n",
    "\n",
    "from pit30m.data.partitions import PreProcessPartition, GeoPartition, QueryBasePartition\n",
    "from pit30m.camera import CamName\n",
    "from pit30m import LogReader\n",
    "\n",
    "%matplotlib inline\n",
    "import matplotlib.pyplot as plt"
   ]
  },
  {
   "cell_type": "code",
   "execution_count": 7,
   "metadata": {},
   "outputs": [
    {
     "name": "stdout",
     "output_type": "stream",
     "text": [
      "['00682fa6-2183-4a0d-dcfe-bc38c448090f', '006ce26a-cd92-4b90-ec10-454da73ede13', '009334fa-acb9-4813-c60c-1916c83974c8', '00a05077-a8f6-4f08-ee38-c7bc4e885611', '0106abc2-b689-464a-cfe4-9f6a00089733', '017be362-c6cf-47fe-e317-fdcf128ce85a', '01959149-0840-4eba-e0a0-53c6b2bb0f84', '01c3ae4e-2bb6-4bd1-efc9-bfb16e4bd1e3', '01d09d4c-329a-4952-f2ed-555aa76dab2c', '01e21524-2e61-4ea6-cf98-164bcb2d29ab', '01e86404-c224-4b10-d12e-9e2144626b3b', '020465aa-b3f0-4b8e-c6af-b535078fe30c', '020829cb-e2a3-4160-df19-8bd4682f1115', '0209f084-2efb-4acf-f2ce-e8f8a58c8b06', '021286dc-5fe5-445f-e5fa-f875f2eb3c57', '024e8e83-7778-496f-e3c4-dfd7c0875d2d', '025c3909-7fe4-4817-e386-5d2de975363a', '025e793e-e8eb-4c6d-e074-accb77dbe4d3', '027a633e-c9d0-4340-fa28-50bf842e6d2c', '0281c09f-836a-4cfa-dcbd-77f1349b6b96', '0308a5d9-6e4c-498f-e7ef-c75e8ae721af', '0330dec6-1dbe-44d8-e139-723f2b7be005', '03359966-92d2-44d5-df29-3f391645f9ab', '03709ebf-bcce-43c5-dd63-9170b2a74836', '037e11f7-2300-47ad-e41d-9d87c2ec218f', '03b212bd-5d66-4924-dc39-3a4a72683f77', '03b711e5-bca3-429c-ce73-01784bd0e66c', '03d80bb8-0e4f-4122-dd66-35c40fb10ed7', '03e24906-57b2-465d-e203-9b1eb9d22f4e', '03e591f9-7558-4a2d-ccaa-ca44b61a2606', '040ad342-4909-4e7a-f38c-698a27763f8a', '047b37d0-e575-4d15-ff99-cbf646573ccd', '047fc632-d080-45fd-c009-4cd13edaceb5', '04d91c42-3077-4e92-ef50-02c41bba967a', '0525f22f-b9dd-43a5-d66a-a201015a363d', '05499467-1fb2-40ff-c0ff-4ca1fc52ea5a', '0568c89c-6562-4aa8-c82d-d43aa72dca45', '058a745e-697c-465c-ce55-789ce9e453a7', '05d90521-f44c-4983-de64-29e90cbb5d22', '061421eb-5240-4e60-c2a6-e9ea83a16625', '0617a7c4-57bb-4785-c06e-79fafc5716a4', '061e6a5d-ebc4-448b-d582-b81fb635ea70', '0667b559-a356-433b-c48b-7e99c5c068ad', '06a65334-eb5a-4141-d45a-bb6dcbb750a8', '06a9aa89-9477-4c50-c112-aa0fdce0e6bd', '06ca16c3-3461-40d9-ef1a-a743dd0d7731', '06d3cac5-c7a4-4843-e8c1-3f552d25b481', '07160994-465c-488e-c835-263b472eed59', '07fc0f31-031e-4ccd-cdd6-05102a0315b9', '07ff1ba3-da2a-46ba-e1d4-75d335c729bf']\n"
     ]
    }
   ],
   "source": [
    "with open(\"../pit30m/all_logs.txt\", \"r\") as f:\n",
    "    logs = f.readlines()\n",
    "    logs = sorted([x.strip() for x in logs])\n",
    "\n",
    "# logs = []\n",
    "# for f in glob.glob(\"/home/julieta/pit30m_partitions/utm_poses_dense/to_hide/*\"):\n",
    "# print(logs)\n",
    "#     logs.append(f.split(\"/\")[-1][:-4])\n",
    "\n",
    "logs = logs[:50]\n",
    "print(logs)"
   ]
  },
  {
   "cell_type": "code",
   "execution_count": 8,
   "metadata": {},
   "outputs": [],
   "source": [
    "log_readers = {}\n",
    "for logid in logs:\n",
    "    # log_readers[logid] = LogReader(f\"s3://pit30m/{logid}/\", index_version=1)\n",
    "    log_readers[logid] = LogReader(\n",
    "        f\"s3://pit30m/{logid}/\", \n",
    "        index_version=1, \n",
    "        # partitions=[PreProcessPartition.VALID, GeoPartition.TRAIN],\n",
    "        partitions=[PreProcessPartition.VALID, GeoPartition.TEST, QueryBasePartition.QUERY],\n",
    "    )"
   ]
  },
  {
   "cell_type": "code",
   "execution_count": 9,
   "metadata": {},
   "outputs": [
    {
     "name": "stderr",
     "output_type": "stream",
     "text": [
      "  4%|▍         | 2/50 [00:04<01:31,  1.90s/it]"
     ]
    },
    {
     "name": "stdout",
     "output_type": "stream",
     "text": [
      "0 poses included so far\n",
      "0 poses included so far\n"
     ]
    },
    {
     "name": "stderr",
     "output_type": "stream",
     "text": [
      "  6%|▌         | 3/50 [00:04<00:52,  1.11s/it]"
     ]
    },
    {
     "name": "stdout",
     "output_type": "stream",
     "text": [
      "0 poses included so far\n"
     ]
    },
    {
     "name": "stderr",
     "output_type": "stream",
     "text": [
      "  8%|▊         | 4/50 [00:11<02:38,  3.45s/it]"
     ]
    },
    {
     "name": "stdout",
     "output_type": "stream",
     "text": [
      "535 poses included so far\n"
     ]
    },
    {
     "name": "stderr",
     "output_type": "stream",
     "text": [
      " 10%|█         | 5/50 [00:14<02:22,  3.18s/it]"
     ]
    },
    {
     "name": "stdout",
     "output_type": "stream",
     "text": [
      "535 poses included so far\n"
     ]
    },
    {
     "name": "stderr",
     "output_type": "stream",
     "text": [
      " 12%|█▏        | 6/50 [00:20<03:03,  4.17s/it]"
     ]
    },
    {
     "name": "stdout",
     "output_type": "stream",
     "text": [
      "551 poses included so far\n"
     ]
    },
    {
     "name": "stderr",
     "output_type": "stream",
     "text": [
      " 16%|█▌        | 8/50 [00:28<02:35,  3.71s/it]"
     ]
    },
    {
     "name": "stdout",
     "output_type": "stream",
     "text": [
      "551 poses included so far\n",
      "552 poses included so far\n"
     ]
    },
    {
     "name": "stderr",
     "output_type": "stream",
     "text": [
      " 18%|█▊        | 9/50 [00:31<02:19,  3.40s/it]"
     ]
    },
    {
     "name": "stdout",
     "output_type": "stream",
     "text": [
      "552 poses included so far\n"
     ]
    },
    {
     "name": "stderr",
     "output_type": "stream",
     "text": [
      " 20%|██        | 10/50 [00:38<03:00,  4.50s/it]"
     ]
    },
    {
     "name": "stdout",
     "output_type": "stream",
     "text": [
      "2_530 poses included so far\n"
     ]
    },
    {
     "name": "stderr",
     "output_type": "stream",
     "text": [
      " 24%|██▍       | 12/50 [00:45<02:22,  3.75s/it]"
     ]
    },
    {
     "name": "stdout",
     "output_type": "stream",
     "text": [
      "2_530 poses included so far\n",
      "2_530 poses included so far\n"
     ]
    },
    {
     "name": "stderr",
     "output_type": "stream",
     "text": [
      " 26%|██▌       | 13/50 [00:51<02:41,  4.36s/it]"
     ]
    },
    {
     "name": "stdout",
     "output_type": "stream",
     "text": [
      "2_530 poses included so far\n"
     ]
    },
    {
     "name": "stderr",
     "output_type": "stream",
     "text": [
      " 28%|██▊       | 14/50 [00:55<02:36,  4.34s/it]"
     ]
    },
    {
     "name": "stdout",
     "output_type": "stream",
     "text": [
      "2_530 poses included so far\n"
     ]
    },
    {
     "name": "stderr",
     "output_type": "stream",
     "text": [
      " 30%|███       | 15/50 [01:00<02:32,  4.36s/it]"
     ]
    },
    {
     "name": "stdout",
     "output_type": "stream",
     "text": [
      "2_530 poses included so far\n"
     ]
    },
    {
     "name": "stderr",
     "output_type": "stream",
     "text": [
      " 32%|███▏      | 16/50 [01:07<03:01,  5.34s/it]"
     ]
    },
    {
     "name": "stdout",
     "output_type": "stream",
     "text": [
      "2_530 poses included so far\n"
     ]
    },
    {
     "name": "stderr",
     "output_type": "stream",
     "text": [
      " 34%|███▍      | 17/50 [01:14<03:06,  5.65s/it]"
     ]
    },
    {
     "name": "stdout",
     "output_type": "stream",
     "text": [
      "2_530 poses included so far\n"
     ]
    },
    {
     "name": "stderr",
     "output_type": "stream",
     "text": [
      "/home/julieta/pit30m/pit30m/data/log_reader.py:162: UserWarning: Persisting input arguments took 0.72s to run.\n",
      "If this happens often in your code, it can cause performance problems \n",
      "(results will be correct in all cases). \n",
      "The reason for this is probably some large input arguments for a wrapped\n",
      " function (e.g. large strings).\n",
      "THIS IS A JOBLIB ISSUE. If you can, kindly provide the joblib's team with an\n",
      " example so that they can fix the problem.\n",
      "  partition_indices = self._partition_assigments\n",
      " 36%|███▌      | 18/50 [01:27<04:19,  8.10s/it]"
     ]
    },
    {
     "name": "stdout",
     "output_type": "stream",
     "text": [
      "2_530 poses included so far\n"
     ]
    },
    {
     "name": "stderr",
     "output_type": "stream",
     "text": [
      "/home/julieta/pit30m/pit30m/data/log_reader.py:162: UserWarning: Persisting input arguments took 0.76s to run.\n",
      "If this happens often in your code, it can cause performance problems \n",
      "(results will be correct in all cases). \n",
      "The reason for this is probably some large input arguments for a wrapped\n",
      " function (e.g. large strings).\n",
      "THIS IS A JOBLIB ISSUE. If you can, kindly provide the joblib's team with an\n",
      " example so that they can fix the problem.\n",
      "  partition_indices = self._partition_assigments\n",
      " 38%|███▊      | 19/50 [01:45<05:37, 10.89s/it]"
     ]
    },
    {
     "name": "stdout",
     "output_type": "stream",
     "text": [
      "2_530 poses included so far\n"
     ]
    },
    {
     "name": "stderr",
     "output_type": "stream",
     "text": [
      " 40%|████      | 20/50 [01:50<04:35,  9.19s/it]"
     ]
    },
    {
     "name": "stdout",
     "output_type": "stream",
     "text": [
      "2_530 poses included so far\n"
     ]
    },
    {
     "name": "stderr",
     "output_type": "stream",
     "text": [
      " 42%|████▏     | 21/50 [01:59<04:23,  9.07s/it]"
     ]
    },
    {
     "name": "stdout",
     "output_type": "stream",
     "text": [
      "2_530 poses included so far\n"
     ]
    },
    {
     "name": "stderr",
     "output_type": "stream",
     "text": [
      " 44%|████▍     | 22/50 [01:59<03:03,  6.56s/it]"
     ]
    },
    {
     "name": "stdout",
     "output_type": "stream",
     "text": [
      "2_531 poses included so far\n"
     ]
    },
    {
     "name": "stderr",
     "output_type": "stream",
     "text": [
      " 46%|████▌     | 23/50 [02:05<02:49,  6.28s/it]"
     ]
    },
    {
     "name": "stdout",
     "output_type": "stream",
     "text": [
      "2_828 poses included so far\n"
     ]
    },
    {
     "name": "stderr",
     "output_type": "stream",
     "text": [
      " 48%|████▊     | 24/50 [02:11<02:38,  6.09s/it]"
     ]
    },
    {
     "name": "stdout",
     "output_type": "stream",
     "text": [
      "3_058 poses included so far\n"
     ]
    },
    {
     "name": "stderr",
     "output_type": "stream",
     "text": [
      " 50%|█████     | 25/50 [02:13<02:06,  5.05s/it]"
     ]
    },
    {
     "name": "stdout",
     "output_type": "stream",
     "text": [
      "3_412 poses included so far\n"
     ]
    },
    {
     "name": "stderr",
     "output_type": "stream",
     "text": [
      " 52%|█████▏    | 26/50 [02:14<01:30,  3.79s/it]"
     ]
    },
    {
     "name": "stdout",
     "output_type": "stream",
     "text": [
      "3_413 poses included so far\n"
     ]
    },
    {
     "name": "stderr",
     "output_type": "stream",
     "text": [
      " 54%|█████▍    | 27/50 [02:22<01:54,  4.96s/it]"
     ]
    },
    {
     "name": "stdout",
     "output_type": "stream",
     "text": [
      "3_635 poses included so far\n"
     ]
    },
    {
     "name": "stderr",
     "output_type": "stream",
     "text": [
      " 56%|█████▌    | 28/50 [02:23<01:21,  3.71s/it]"
     ]
    },
    {
     "name": "stdout",
     "output_type": "stream",
     "text": [
      "3_635 poses included so far\n"
     ]
    },
    {
     "name": "stderr",
     "output_type": "stream",
     "text": [
      " 58%|█████▊    | 29/50 [02:26<01:16,  3.65s/it]"
     ]
    },
    {
     "name": "stdout",
     "output_type": "stream",
     "text": [
      "3_635 poses included so far\n"
     ]
    },
    {
     "name": "stderr",
     "output_type": "stream",
     "text": [
      " 60%|██████    | 30/50 [02:32<01:27,  4.36s/it]"
     ]
    },
    {
     "name": "stdout",
     "output_type": "stream",
     "text": [
      "4_037 poses included so far\n"
     ]
    },
    {
     "name": "stderr",
     "output_type": "stream",
     "text": [
      " 62%|██████▏   | 31/50 [02:37<01:23,  4.38s/it]"
     ]
    },
    {
     "name": "stdout",
     "output_type": "stream",
     "text": [
      "4_037 poses included so far\n"
     ]
    },
    {
     "name": "stderr",
     "output_type": "stream",
     "text": [
      "/home/julieta/pit30m/pit30m/data/log_reader.py:162: UserWarning: Persisting input arguments took 0.71s to run.\n",
      "If this happens often in your code, it can cause performance problems \n",
      "(results will be correct in all cases). \n",
      "The reason for this is probably some large input arguments for a wrapped\n",
      " function (e.g. large strings).\n",
      "THIS IS A JOBLIB ISSUE. If you can, kindly provide the joblib's team with an\n",
      " example so that they can fix the problem.\n",
      "  partition_indices = self._partition_assigments\n",
      " 64%|██████▍   | 32/50 [02:53<02:24,  8.04s/it]"
     ]
    },
    {
     "name": "stdout",
     "output_type": "stream",
     "text": [
      "4_373 poses included so far\n"
     ]
    },
    {
     "name": "stderr",
     "output_type": "stream",
     "text": [
      " 66%|██████▌   | 33/50 [02:54<01:39,  5.85s/it]"
     ]
    },
    {
     "name": "stdout",
     "output_type": "stream",
     "text": [
      "4_373 poses included so far\n"
     ]
    },
    {
     "name": "stderr",
     "output_type": "stream",
     "text": [
      " 68%|██████▊   | 34/50 [02:59<01:28,  5.54s/it]"
     ]
    },
    {
     "name": "stdout",
     "output_type": "stream",
     "text": [
      "4_373 poses included so far\n"
     ]
    },
    {
     "name": "stderr",
     "output_type": "stream",
     "text": [
      " 70%|███████   | 35/50 [03:08<01:39,  6.64s/it]"
     ]
    },
    {
     "name": "stdout",
     "output_type": "stream",
     "text": [
      "4_373 poses included so far\n"
     ]
    },
    {
     "name": "stderr",
     "output_type": "stream",
     "text": [
      " 72%|███████▏  | 36/50 [03:09<01:07,  4.85s/it]"
     ]
    },
    {
     "name": "stdout",
     "output_type": "stream",
     "text": [
      "4_373 poses included so far\n"
     ]
    },
    {
     "name": "stderr",
     "output_type": "stream",
     "text": [
      "/home/julieta/pit30m/pit30m/data/log_reader.py:162: UserWarning: Persisting input arguments took 0.60s to run.\n",
      "If this happens often in your code, it can cause performance problems \n",
      "(results will be correct in all cases). \n",
      "The reason for this is probably some large input arguments for a wrapped\n",
      " function (e.g. large strings).\n",
      "THIS IS A JOBLIB ISSUE. If you can, kindly provide the joblib's team with an\n",
      " example so that they can fix the problem.\n",
      "  partition_indices = self._partition_assigments\n",
      " 74%|███████▍  | 37/50 [03:24<01:42,  7.87s/it]"
     ]
    },
    {
     "name": "stdout",
     "output_type": "stream",
     "text": [
      "4_373 poses included so far\n"
     ]
    },
    {
     "name": "stderr",
     "output_type": "stream",
     "text": [
      " 76%|███████▌  | 38/50 [03:27<01:19,  6.59s/it]"
     ]
    },
    {
     "name": "stdout",
     "output_type": "stream",
     "text": [
      "4_373 poses included so far\n"
     ]
    },
    {
     "name": "stderr",
     "output_type": "stream",
     "text": [
      " 78%|███████▊  | 39/50 [03:32<01:06,  6.06s/it]"
     ]
    },
    {
     "name": "stdout",
     "output_type": "stream",
     "text": [
      "4_527 poses included so far\n"
     ]
    },
    {
     "name": "stderr",
     "output_type": "stream",
     "text": [
      " 80%|████████  | 40/50 [03:39<01:02,  6.27s/it]"
     ]
    },
    {
     "name": "stdout",
     "output_type": "stream",
     "text": [
      "4_527 poses included so far\n"
     ]
    },
    {
     "name": "stderr",
     "output_type": "stream",
     "text": [
      " 82%|████████▏ | 41/50 [03:40<00:42,  4.73s/it]"
     ]
    },
    {
     "name": "stdout",
     "output_type": "stream",
     "text": [
      "4_611 poses included so far\n"
     ]
    },
    {
     "name": "stderr",
     "output_type": "stream",
     "text": [
      "/home/julieta/pit30m/pit30m/data/log_reader.py:162: UserWarning: Persisting input arguments took 0.75s to run.\n",
      "If this happens often in your code, it can cause performance problems \n",
      "(results will be correct in all cases). \n",
      "The reason for this is probably some large input arguments for a wrapped\n",
      " function (e.g. large strings).\n",
      "THIS IS A JOBLIB ISSUE. If you can, kindly provide the joblib's team with an\n",
      " example so that they can fix the problem.\n",
      "  partition_indices = self._partition_assigments\n",
      " 84%|████████▍ | 42/50 [04:00<01:14,  9.31s/it]"
     ]
    },
    {
     "name": "stdout",
     "output_type": "stream",
     "text": [
      "6_491 poses included so far\n"
     ]
    },
    {
     "name": "stderr",
     "output_type": "stream",
     "text": [
      "/home/julieta/pit30m/pit30m/data/log_reader.py:162: UserWarning: Persisting input arguments took 0.98s to run.\n",
      "If this happens often in your code, it can cause performance problems \n",
      "(results will be correct in all cases). \n",
      "The reason for this is probably some large input arguments for a wrapped\n",
      " function (e.g. large strings).\n",
      "THIS IS A JOBLIB ISSUE. If you can, kindly provide the joblib's team with an\n",
      " example so that they can fix the problem.\n",
      "  partition_indices = self._partition_assigments\n",
      " 86%|████████▌ | 43/50 [04:23<01:34, 13.45s/it]"
     ]
    },
    {
     "name": "stdout",
     "output_type": "stream",
     "text": [
      "6_491 poses included so far\n"
     ]
    },
    {
     "name": "stderr",
     "output_type": "stream",
     "text": [
      "/home/julieta/pit30m/pit30m/data/log_reader.py:162: UserWarning: Persisting input arguments took 0.67s to run.\n",
      "If this happens often in your code, it can cause performance problems \n",
      "(results will be correct in all cases). \n",
      "The reason for this is probably some large input arguments for a wrapped\n",
      " function (e.g. large strings).\n",
      "THIS IS A JOBLIB ISSUE. If you can, kindly provide the joblib's team with an\n",
      " example so that they can fix the problem.\n",
      "  partition_indices = self._partition_assigments\n",
      " 88%|████████▊ | 44/50 [04:41<01:28, 14.69s/it]"
     ]
    },
    {
     "name": "stdout",
     "output_type": "stream",
     "text": [
      "6_491 poses included so far\n"
     ]
    },
    {
     "name": "stderr",
     "output_type": "stream",
     "text": [
      "/home/julieta/pit30m/pit30m/data/log_reader.py:162: UserWarning: Persisting input arguments took 0.56s to run.\n",
      "If this happens often in your code, it can cause performance problems \n",
      "(results will be correct in all cases). \n",
      "The reason for this is probably some large input arguments for a wrapped\n",
      " function (e.g. large strings).\n",
      "THIS IS A JOBLIB ISSUE. If you can, kindly provide the joblib's team with an\n",
      " example so that they can fix the problem.\n",
      "  partition_indices = self._partition_assigments\n",
      " 90%|█████████ | 45/50 [04:57<01:16, 15.20s/it]"
     ]
    },
    {
     "name": "stdout",
     "output_type": "stream",
     "text": [
      "6_491 poses included so far\n"
     ]
    },
    {
     "name": "stderr",
     "output_type": "stream",
     "text": [
      "/home/julieta/pit30m/pit30m/data/log_reader.py:162: UserWarning: Persisting input arguments took 0.50s to run.\n",
      "If this happens often in your code, it can cause performance problems \n",
      "(results will be correct in all cases). \n",
      "The reason for this is probably some large input arguments for a wrapped\n",
      " function (e.g. large strings).\n",
      "THIS IS A JOBLIB ISSUE. If you can, kindly provide the joblib's team with an\n",
      " example so that they can fix the problem.\n",
      "  partition_indices = self._partition_assigments\n",
      " 92%|█████████▏| 46/50 [05:07<00:55, 13.77s/it]"
     ]
    },
    {
     "name": "stdout",
     "output_type": "stream",
     "text": [
      "6_493 poses included so far\n"
     ]
    },
    {
     "name": "stderr",
     "output_type": "stream",
     "text": [
      " 94%|█████████▍| 47/50 [05:14<00:34, 11.59s/it]"
     ]
    },
    {
     "name": "stdout",
     "output_type": "stream",
     "text": [
      "6_493 poses included so far\n"
     ]
    },
    {
     "name": "stderr",
     "output_type": "stream",
     "text": [
      " 96%|█████████▌| 48/50 [05:18<00:18,  9.23s/it]"
     ]
    },
    {
     "name": "stdout",
     "output_type": "stream",
     "text": [
      "6_493 poses included so far\n"
     ]
    },
    {
     "name": "stderr",
     "output_type": "stream",
     "text": [
      " 98%|█████████▊| 49/50 [05:27<00:09,  9.29s/it]"
     ]
    },
    {
     "name": "stdout",
     "output_type": "stream",
     "text": [
      "6_493 poses included so far\n"
     ]
    },
    {
     "name": "stderr",
     "output_type": "stream",
     "text": [
      "100%|██████████| 50/50 [05:32<00:00,  6.66s/it]"
     ]
    },
    {
     "name": "stdout",
     "output_type": "stream",
     "text": [
      "7_333 poses included so far\n",
      "Total included: 7_333\n",
      "Total with poses: 17\n",
      "['00a05077-a8f6-4f08-ee38-c7bc4e885611', '017be362-c6cf-47fe-e317-fdcf128ce85a', '01c3ae4e-2bb6-4bd1-efc9-bfb16e4bd1e3', '01e21524-2e61-4ea6-cf98-164bcb2d29ab', '0330dec6-1dbe-44d8-e139-723f2b7be005', '03359966-92d2-44d5-df29-3f391645f9ab', '03709ebf-bcce-43c5-dd63-9170b2a74836', '037e11f7-2300-47ad-e41d-9d87c2ec218f', '03b212bd-5d66-4924-dc39-3a4a72683f77', '03b711e5-bca3-429c-ce73-01784bd0e66c', '03e591f9-7558-4a2d-ccaa-ca44b61a2606', '047b37d0-e575-4d15-ff99-cbf646573ccd', '05d90521-f44c-4983-de64-29e90cbb5d22', '0617a7c4-57bb-4785-c06e-79fafc5716a4', '061e6a5d-ebc4-448b-d582-b81fb635ea70', '06ca16c3-3461-40d9-ef1a-a743dd0d7731', '07ff1ba3-da2a-46ba-e1d4-75d335c729bf']\n"
     ]
    },
    {
     "name": "stderr",
     "output_type": "stream",
     "text": [
      "\n"
     ]
    },
    {
     "data": {
      "image/png": "[encoded data removed]",
      "text/plain": [
       "<Figure size 1000x1000 with 1 Axes>"
      ]
     },
     "metadata": {},
     "output_type": "display_data"
    }
   ],
   "source": [
    "figsz = 20 // 2\n",
    "fig = plt.figure(figsize=(figsz, figsz), dpi=100, facecolor='w', edgecolor='k')\n",
    "\n",
    "included = 0\n",
    "with_poses = []\n",
    "for log_id, lr in tqdm(log_readers.items()):\n",
    "    \n",
    "    # camera index\n",
    "    # index = lr.get_cam_geo_index(CamName.MIDDLE_FRONT_WIDE, max_delta_s=0.2)\n",
    "    # utm_present = index[\"utm_present\"]\n",
    "    # x = index[\"utm_x\"][utm_present]\n",
    "    # y = index[\"utm_y\"][utm_present]\n",
    "    \n",
    "    # UTM poses with offsets from the maps \n",
    "    # valid, xyzs = lr.utm_poses_dense\n",
    "    # xyzs = xyzs[valid]\n",
    "    # x, y = xyzs[:, 0], xyzs[:, 1]\n",
    "    \n",
    "    # This gives me 3_249 poses\n",
    "    # pose_index = lr.continuous_pose_dense\n",
    "    # x, y = pose_index[:, 2], pose_index[:, 3]\n",
    "    \n",
    "    # MRP dense, removing invalid, I get 2_530 poses\n",
    "    pose_index = lr.map_relative_poses_dense\n",
    "    pose_index = pose_index[pose_index[\"valid\"]]\n",
    "    x, y = pose_index[\"x\"], pose_index[\"y\"]\n",
    "     \n",
    "    sc = plt.scatter(x, y, s=0.5, alpha=0.5)\n",
    "    \n",
    "    if len(x) > 0:\n",
    "        print(pose_index[0])\n",
    "        with_poses.append(log_id)\n",
    "    \n",
    "    included += len(x)\n",
    "    print(f\"{included:_} poses included so far\")\n",
    "    \n",
    "    # percent_hidden = 100 * hidden_in_log / len(utm)\n",
    "    # if percent_hidden > 90: \n",
    "    #     print(f\"{log_id} has {hidden_in_log:_} poses to hide ({percent_hidden:.2f}%)\")\n",
    "\n",
    "plt.axis(\"square\")\n",
    "plt.xlabel(\"Easting\")\n",
    "plt.ylabel(\"Northing\")\n",
    "print(f\"Total included: {included:_}\")\n",
    "print(f\"Total with poses: {len(with_poses)}\")\n",
    "print(with_poses)"
   ]
  },
  {
   "cell_type": "code",
   "execution_count": 5,
   "metadata": {},
   "outputs": [
    {
     "ename": "IndexError",
     "evalue": "too many indices for array: array is 1-dimensional, but 2 were indexed",
     "output_type": "error",
     "traceback": [
      "\u001b[0;31m---------------------------------------------------------------------------\u001b[0m",
      "\u001b[0;31mIndexError\u001b[0m                                Traceback (most recent call last)",
      "Cell \u001b[0;32mIn[5], line 1\u001b[0m\n\u001b[0;32m----> 1\u001b[0m pose_index[:, \u001b[39m1\u001b[39;49m]\n",
      "\u001b[0;31mIndexError\u001b[0m: too many indices for array: array is 1-dimensional, but 2 were indexed"
     ]
    }
   ],
   "source": [
    "pose_index[:, 1]"
   ]
  },
  {
   "cell_type": "code",
   "execution_count": null,
   "metadata": {},
   "outputs": [
    {
     "ename": "NameError",
     "evalue": "name 'index' is not defined",
     "output_type": "error",
     "traceback": [
      "\u001b[0;31m---------------------------------------------------------------------------\u001b[0m",
      "\u001b[0;31mNameError\u001b[0m                                 Traceback (most recent call last)",
      "Cell \u001b[0;32mIn[12], line 1\u001b[0m\n\u001b[0;32m----> 1\u001b[0m submap_ids \u001b[39m=\u001b[39m \u001b[39msorted\u001b[39m([UUID(\u001b[39mbytes\u001b[39m\u001b[39m=\u001b[39mx\u001b[39m.\u001b[39mljust(\u001b[39m16\u001b[39m, \u001b[39mb\u001b[39m\u001b[39m\"\u001b[39m\u001b[39m\\x00\u001b[39;00m\u001b[39m\"\u001b[39m)) \u001b[39mfor\u001b[39;00m x \u001b[39min\u001b[39;00m np\u001b[39m.\u001b[39munique(index[\u001b[39m\"\u001b[39m\u001b[39msubmap_id\u001b[39m\u001b[39m\"\u001b[39m])])\n\u001b[1;32m      2\u001b[0m \u001b[39mprint\u001b[39m(\u001b[39mlen\u001b[39m(submap_ids))\n\u001b[1;32m      3\u001b[0m \u001b[39mprint\u001b[39m(submap_ids[:\u001b[39m10\u001b[39m])\n",
      "\u001b[0;31mNameError\u001b[0m: name 'index' is not defined"
     ]
    }
   ],
   "source": [
    "submap_ids = sorted([UUID(bytes=x.ljust(16, b\"\\x00\")) for x in np.unique(index[\"submap_id\"])])\n",
    "print(len(submap_ids))\n",
    "print(submap_ids[:10])"
   ]
  },
  {
   "cell_type": "code",
   "execution_count": null,
   "metadata": {},
   "outputs": [],
   "source": [
    "from typing import Iterable\n",
    "from pathlib import Path\n",
    "from joblib import Parallel, delayed\n",
    "import pickle\n",
    "from numpy.lib import recfunctions as rfn\n",
    "\n",
    "def get_utm_poses_with_metadata(lr):\n",
    "    pose_time, pose_valid, pose_xy = lr.utm_poses_dense\n",
    "    time = rfn.unstructured_to_structured(pose_time[:, np.newaxis], names=[\"utm_time\"])\n",
    "    # assert np.all(np.diff(time[\"utm_time\"]) >= 0), \"Pose times are not sorted\"\n",
    "    valid = rfn.unstructured_to_structured(pose_valid[:, np.newaxis], names=[\"utm_valid\"])\n",
    "    # assert len(valid) == len(pose_valid)\n",
    "    xys = rfn.unstructured_to_structured(pose_xy, names=[\"utm_x\", \"utm_y\"])\n",
    "    # assert len(xys) == len(pose_xy)\n",
    "    sensor_poses = rfn.merge_arrays([time, valid, xys], flatten=True)\n",
    "\n",
    "    return lr.log_id, sensor_poses\n",
    "\n",
    "def get_utm_dense_poses(\n",
    "    logs: Iterable[UUID],\n",
    "    logreader_path: Path = Path(\"/mnt/data/pit30m/pose-backup-2023-04-18/\"),\n",
    "    # logreader_path: Path = Path(\"/mnt/data/pit30m/pose-backup-2023-04-18/\"),\n",
    "    pool: Parallel = None,\n",
    "    pickled: bool = None,\n",
    "):\n",
    "    \"\"\"Multiple ways to get dense poses\n",
    "    Args:\n",
    "        logs: list of log ids whose dense poses we want to load\n",
    "        logreader_path: Path where to load log readers from\n",
    "        pool: pool of parallel workers to load the poses\n",
    "        pickled: whether to load from a pre-dumped pickled file on disk\n",
    "    \"\"\"\n",
    "\n",
    "    log_readers = [LogReader(str(logreader_path / f\"{log}\")) for log in logs]\n",
    "\n",
    "    if pickled:\n",
    "        # If loading from pickle, ignore everything and just load from disk\n",
    "        with open(\"/home/julieta/pickles/utm_dense_poses.pkl\", \"rb\") as handle:\n",
    "            sensor_poses = pickle.load(handle)\n",
    "\n",
    "        # The pickle has everything -- filter for the ones that were asked for\n",
    "        sensor_poses = {log_id: sensor_pose for (log_id, sensor_pose) in sensor_poses.items() if log_id in logs}\n",
    "    else:\n",
    "        if pool:\n",
    "            res = pool(delayed(get_utm_poses_with_metadata)(lr) for lr in log_readers)\n",
    "            sensor_poses = {log_id: index for (log_id, index) in res}\n",
    "        else:\n",
    "            sensor_poses = {\n",
    "                log_id: get_utm_poses_with_metadata(lr)[1]\n",
    "                for (log_id, lr) in tqdm(\n",
    "                    zip(logs, log_readers), total=len(logs), desc=\"Getting dense poses sequentially from disk\"\n",
    "                )\n",
    "            }\n",
    "\n",
    "    log_readers = {log_id: lr for (log_id, lr) in zip(logs, log_readers)}\n",
    "    return sensor_poses, log_readers, pool\n"
   ]
  },
  {
   "cell_type": "code",
   "execution_count": null,
   "metadata": {},
   "outputs": [],
   "source": [
    "pose_fpath = \"/mnt/data/pit30m/pose-backup-2023-04-18/556af30b-cb04-4a08-ee47-4eb9e79da376/all_poses.npz.lz4\""
   ]
  },
  {
   "cell_type": "code",
   "execution_count": null,
   "metadata": {},
   "outputs": [],
   "source": [
    "with open(pose_fpath, \"rb\") as in_compressed_f:\n",
    "    with lz4.frame.open(in_compressed_f, \"rb\") as wgs84_f:\n",
    "        poses = np.load(wgs84_f)[\"data\"]"
   ]
  },
  {
   "cell_type": "code",
   "execution_count": null,
   "metadata": {},
   "outputs": [
    {
     "name": "stdout",
     "output_type": "stream",
     "text": [
      "136\n",
      "[UUID('00a53038-3072-4115-f458-02769036233f'), UUID('02c07a67-6925-4d5e-c4e4-3a65b1e37b94'), UUID('07e78e05-8aba-421f-e1e4-27679cec69a7'), UUID('082c2a5a-7516-4f9e-fce0-6ab6eb3e0965'), UUID('0c40dc7d-1d68-4482-d48a-d3c71ff26ca4'), UUID('0cd730f5-08b5-4a91-e5c2-077134e3cb61'), UUID('0d864017-a690-4255-c225-551e3c48705f'), UUID('116570b4-6598-4c1a-da4f-948194f9d04b'), UUID('12e48274-21e0-4340-d3fa-101b21a1baab'), UUID('17b09d4c-2514-43c8-f3e3-8133a4ebc62e')]\n"
     ]
    }
   ],
   "source": [
    "submap_ids = sorted([UUID(bytes=x.ljust(16, b\"\\x00\")) for x in np.unique(poses[\"map_relative\"][\"submap\"])])\n",
    "print(len(submap_ids))\n",
    "print(submap_ids[:10])"
   ]
  }
 ],
 "metadata": {
  "kernelspec": {
   "display_name": "pit30m",
   "language": "python",
   "name": "python3"
  },
  "language_info": {
   "codemirror_mode": {
    "name": "ipython",
    "version": 3
   },
   "file_extension": ".py",
   "mimetype": "text/x-python",
   "name": "python",
   "nbconvert_exporter": "python",
   "pygments_lexer": "ipython3",
   "version": "3.10.9"
  },
  "orig_nbformat": 4
 },
 "nbformat": 4,
 "nbformat_minor": 2
}
