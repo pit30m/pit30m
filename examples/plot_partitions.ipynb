{
 "cells": [
  {
   "cell_type": "code",
   "execution_count": 26,
   "metadata": {},
   "outputs": [],
   "source": [
    "from tqdm import tqdm\n",
    "import glob\n",
    "import numpy as np\n",
    "import multiprocessing as mp\n",
    "from uuid import UUID\n",
    "import lz4\n",
    "from typing import List, Tuple, Dict, Union, Optional, Iterable\n",
    "from joblib import Parallel, delayed\n",
    "\n",
    "from pit30m.data.partitions import PreProcessPartition, GeoPartition, QueryBasePartition\n",
    "from pit30m.camera import CamName\n",
    "from pit30m import LogReader\n",
    "\n",
    "%matplotlib inline\n",
    "import matplotlib.pyplot as plt"
   ]
  },
  {
   "cell_type": "code",
   "execution_count": 27,
   "metadata": {},
   "outputs": [
    {
     "name": "stdout",
     "output_type": "stream",
     "text": [
      "['00682fa6-2183-4a0d-dcfe-bc38c448090f', '006ce26a-cd92-4b90-ec10-454da73ede13', '009334fa-acb9-4813-c60c-1916c83974c8', '00a05077-a8f6-4f08-ee38-c7bc4e885611', '0106abc2-b689-464a-cfe4-9f6a00089733', '017be362-c6cf-47fe-e317-fdcf128ce85a', '01959149-0840-4eba-e0a0-53c6b2bb0f84', '01c3ae4e-2bb6-4bd1-efc9-bfb16e4bd1e3', '01d09d4c-329a-4952-f2ed-555aa76dab2c', '01e21524-2e61-4ea6-cf98-164bcb2d29ab']\n"
     ]
    }
   ],
   "source": [
    "with open(\"../pit30m/all_logs.txt\", \"r\") as f:\n",
    "    logs = f.readlines()\n",
    "    logs = sorted([x.strip() for x in logs])\n",
    "\n",
    "# logs = []\n",
    "# for f in glob.glob(\"/home/julieta/pit30m_partitions/utm_poses_dense/to_hide/*\"):\n",
    "# print(logs)\n",
    "#     logs.append(f.split(\"/\")[-1][:-4])\n",
    "\n",
    "logs = logs[:10]\n",
    "print(logs)"
   ]
  },
  {
   "cell_type": "code",
   "execution_count": 28,
   "metadata": {},
   "outputs": [],
   "source": [
    "def maybe_get_sensor_index(log_reader: LogReader, sensor: str, partitions=None) -> Tuple[str, Optional[np.ndarray]]:\n",
    "    \"\"\"Try to fetch index from AWS, return None if it doesn't exist\"\"\"    \n",
    "    try:\n",
    "        if sensor == \"LIDAR\":\n",
    "            index = log_reader.get_lidar_geo_index()\n",
    "        elif sensor in CamName.__members__:\n",
    "            index = log_reader.get_cam_geo_index(CamName[sensor.upper()], max_delta_s=0.2, partitions=partitions)\n",
    "        else:\n",
    "            raise ValueError(f\"Unknown sensor {sensor}\")\n",
    "    except FileNotFoundError:\n",
    "        index = None\n",
    "    \n",
    "    return log_reader.log_id, index\n",
    "    \n",
    "\n",
    "def get_sensor_indices(\n",
    "    log_readers: Iterable[LogReader], sensor: str, partitions = None, \n",
    ") -> Tuple[Dict[UUID, np.ndarray], Dict[UUID, LogReader], Parallel]:\n",
    "    \"\"\"Get the indices that map poses to sensor observations\"\"\"\n",
    "    pool = Parallel(n_jobs=mp.cpu_count(), verbose=1, batch_size=8)\n",
    "    res = pool(delayed(maybe_get_sensor_index)(lr, sensor, partitions) for lr in log_readers)\n",
    "    sensor_indices = {log_id: index for (log_id, index) in res}\n",
    "    # log_readers = {log_id: lr for (log_id, lr) in zip(logs, log_readers)}\n",
    "    return sensor_indices, pool"
   ]
  },
  {
   "cell_type": "code",
   "execution_count": 29,
   "metadata": {},
   "outputs": [],
   "source": [
    "log_readers = {}\n",
    "for logid in logs:\n",
    "    # log_readers[logid] = LogReader(f\"s3://pit30m/{logid}/\", index_version=1)\n",
    "    log_readers[logid] = LogReader(\n",
    "        f\"s3://pit30m/{logid}/\", \n",
    "        index_version=2, \n",
    "        # partitions=[PreProcessPartition.VALID, GeoPartition.TRAIN],\n",
    "        # partitions=[PreProcessPartition.VALID, GeoPartition.TEST, QueryBasePartition.QUERY],\n",
    "    )"
   ]
  },
  {
   "cell_type": "code",
   "execution_count": 30,
   "metadata": {},
   "outputs": [
    {
     "name": "stderr",
     "output_type": "stream",
     "text": [
      "[Parallel(n_jobs=16)]: Using backend LokyBackend with 16 concurrent workers.\n"
     ]
    },
    {
     "name": "stdout",
     "output_type": "stream",
     "text": [
      "WARNING: There are 1 / 1 (100.00%) timestamp associations with gap > 0.200s. Max is 2.379s\n",
      "WARNING: There are 1 / 1 (100.00%) timestamp associations with gap > 0.200s. Max is 2.676s\n",
      "WARNING: There are 1 / 1 (100.00%) timestamp associations with gap > 0.200s. Max is 2.564s\n",
      "WARNING: There are 285 / 12197 (2.34%) timestamp associations with gap > 0.200s. Max is 12.821s\n",
      "WARNING: There are 245 / 12024 (2.04%) timestamp associations with gap > 0.200s. Max is 11.163s\n",
      "WARNING: There are 58 / 23041 (0.25%) timestamp associations with gap > 0.200s. Max is 2.826s\n",
      "WARNING: There are 35935 / 65724 (54.68%) timestamp associations with gap > 0.200s. Max is 3106.091s\n",
      "WARNING: There are 8164 / 37150 (21.98%) timestamp associations with gap > 0.200s. Max is 236.261s\n",
      "WARNING: There are 6992 / 41334 (16.92%) timestamp associations with gap > 0.200s. Max is 589.232s\n",
      "WARNING: There are 5882 / 40719 (14.45%) timestamp associations with gap > 0.200s. Max is 168.017s\n"
     ]
    },
    {
     "name": "stderr",
     "output_type": "stream",
     "text": [
      "[Parallel(n_jobs=16)]: Done  10 out of  10 | elapsed:    8.5s finished\n",
      "[Parallel(n_jobs=16)]: Using backend LokyBackend with 16 concurrent workers.\n"
     ]
    },
    {
     "name": "stdout",
     "output_type": "stream",
     "text": [
      "WARNING: There are 1 / 1 (100.00%) timestamp associations with gap > 0.200s. Max is 2.676s\n",
      "WARNING: There are 1 / 1 (100.00%) timestamp associations with gap > 0.200s. Max is 2.379s\n",
      "WARNING: There are 1 / 1 (100.00%) timestamp associations with gap > 0.200s. Max is 2.564s\n",
      "WARNING: There are 245 / 12024 (2.04%) timestamp associations with gap > 0.200s. Max is 11.163s\n",
      "WARNING: There are 285 / 12197 (2.34%) timestamp associations with gap > 0.200s. Max is 12.821s\n",
      "WARNING: There are 58 / 23041 (0.25%) timestamp associations with gap > 0.200s. Max is 2.826s\n",
      "WARNING: There are 8164 / 37150 (21.98%) timestamp associations with gap > 0.200s. Max is 236.261s\n",
      "WARNING: There are 6992 / 41334 (16.92%) timestamp associations with gap > 0.200s. Max is 589.232s\n",
      "WARNING: There are 35935 / 65724 (54.68%) timestamp associations with gap > 0.200s. Max is 3106.091s\n"
     ]
    },
    {
     "name": "stderr",
     "output_type": "stream",
     "text": [
      "[Parallel(n_jobs=16)]: Done  10 out of  10 | elapsed:   13.2s finished\n"
     ]
    },
    {
     "name": "stdout",
     "output_type": "stream",
     "text": [
      "WARNING: There are 5882 / 40719 (14.45%) timestamp associations with gap > 0.200s. Max is 168.017s\n"
     ]
    },
    {
     "name": "stderr",
     "output_type": "stream",
     "text": [
      "100%|██████████| 10/10 [00:00<00:00, 12945.38it/s]\n"
     ]
    },
    {
     "name": "stdout",
     "output_type": "stream",
     "text": [
      "4_743 poses included so far\n",
      "4_743 poses included so far\n",
      "4_743 poses included so far\n",
      "9_233 poses included so far\n",
      "9_233 poses included so far\n",
      "26_312 poses included so far\n",
      "37_108 poses included so far\n",
      "37_108 poses included so far\n",
      "37_108 poses included so far\n",
      "37_108 poses included so far\n"
     ]
    },
    {
     "name": "stderr",
     "output_type": "stream",
     "text": [
      "100%|██████████| 10/10 [00:00<00:00, 12985.46it/s]"
     ]
    },
    {
     "name": "stdout",
     "output_type": "stream",
     "text": [
      "2_498 poses included so far\n",
      "2_498 poses included so far\n",
      "2_498 poses included so far\n",
      "9_031 poses included so far\n",
      "19_464 poses included so far\n",
      "19_464 poses included so far\n",
      "38_644 poses included so far\n",
      "38_644 poses included so far\n",
      "47_214 poses included so far\n",
      "47_214 poses included so far\n",
      "Total included: 47_214\n",
      "Total with poses: 0\n",
      "[]\n",
      "[]\n"
     ]
    },
    {
     "name": "stderr",
     "output_type": "stream",
     "text": [
      "\n"
     ]
    },
    {
     "data": {
      "image/png": "[encoded data removed]",
      "text/plain": [
       "<Figure size 1000x1000 with 1 Axes>"
      ]
     },
     "metadata": {},
     "output_type": "display_data"
    }
   ],
   "source": [
    "figsz = 20 // 2\n",
    "fig = plt.figure(figsize=(figsz, figsz), dpi=100, facecolor='w', edgecolor='k')\n",
    "\n",
    "# Load all the indices asynchronously\n",
    "sensor_indices_TRAIN, pool = get_sensor_indices(\n",
    "    log_readers.values(), \n",
    "    CamName.MIDDLE_FRONT_WIDE.name, \n",
    "    partitions=(PreProcessPartition.VALID, GeoPartition.TRAIN),\n",
    ")\n",
    "\n",
    "sensor_indices_VAL, pool = get_sensor_indices(\n",
    "    log_readers.values(), \n",
    "    CamName.MIDDLE_FRONT_WIDE.name, \n",
    "    partitions=(PreProcessPartition.VALID, GeoPartition.VAL),\n",
    ")\n",
    "\n",
    "sensor_indices_TEST, pool = get_sensor_indices(\n",
    "    log_readers.values(), \n",
    "    CamName.MIDDLE_FRONT_WIDE.name, \n",
    "    partitions=(PreProcessPartition.VALID, GeoPartition.TEST),\n",
    ")\n",
    "\n",
    "\n",
    "for label, sensor_indices in zip([\"val\", \"train\", \"test\"], [sensor_indices_VAL, sensor_indices_TRAIN, sensor_indices_TEST]):\n",
    "    \n",
    "    included = 0\n",
    "    with_poses = []\n",
    "    missing = []\n",
    "    \n",
    "    xs, ys = [], []\n",
    "    for log_id, index in tqdm(sensor_indices.items()):\n",
    "\n",
    "        # camera index\n",
    "        if index is None:\n",
    "            print(f\"{log_id} has no index yet\")\n",
    "            missing.append(log_id)\n",
    "            continue\n",
    "        \n",
    "        utm_present = index[\"utm_present\"]\n",
    "        x = index[\"utm_x\"][utm_present]\n",
    "        y = index[\"utm_y\"][utm_present]\n",
    "        \n",
    "        xs.append(x)\n",
    "        ys.append(y)\n",
    "        \n",
    "        included += len(x)\n",
    "        print(f\"{included:_} poses included so far\")\n",
    "    \n",
    "    x = np.concatenate(xs)\n",
    "    y = np.concatenate(ys)\n",
    "    sc = plt.scatter(x, y, s=0.5, alpha=0.5, label=label)\n",
    "\n",
    "plt.axis(\"square\")\n",
    "plt.xlabel(\"Easting\")\n",
    "plt.ylabel(\"Northing\")\n",
    "plt.legend()\n",
    "print(f\"Total included: {included:_}\")\n",
    "print(f\"Total with poses: {len(with_poses)}\")\n",
    "print(with_poses)\n",
    "print(missing)"
   ]
  }
 ],
 "metadata": {
  "kernelspec": {
   "display_name": "pit30m",
   "language": "python",
   "name": "python3"
  },
  "language_info": {
   "codemirror_mode": {
    "name": "ipython",
    "version": 3
   },
   "file_extension": ".py",
   "mimetype": "text/x-python",
   "name": "python",
   "nbconvert_exporter": "python",
   "pygments_lexer": "ipython3",
   "version": "3.10.9"
  },
  "orig_nbformat": 4
 },
 "nbformat": 4,
 "nbformat_minor": 2
}
