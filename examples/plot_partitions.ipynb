{
 "cells": [
  {
   "cell_type": "code",
   "execution_count": 38,
   "metadata": {},
   "outputs": [],
   "source": [
    "from tqdm import tqdm\n",
    "from pit30m import LogReader\n",
    "import glob\n",
    "import numpy as np\n",
    "from uuid import UUID\n",
    "\n",
    "from pit30m.data.partitions import PreProcessPartition\n",
    "from pit30m.camera import CamName\n",
    "\n",
    "%matplotlib inline\n",
    "import matplotlib.pyplot as plt"
   ]
  },
  {
   "cell_type": "code",
   "execution_count": 22,
   "metadata": {},
   "outputs": [],
   "source": [
    "# with open(\"../pit30m/all_logs.txt\", \"r\") as f:\n",
    "#     logs = f.readlines()\n",
    "#     logs = [x.strip() for x in logs]\n",
    "\n",
    "logs = []\n",
    "for f in glob.glob(\"/home/julieta/pit30m_partitions/utm_poses_dense/to_hide/*\"):\n",
    "    logs.append(f.split(\"/\")[-1][:-4])"
   ]
  },
  {
   "cell_type": "code",
   "execution_count": 17,
   "metadata": {},
   "outputs": [],
   "source": [
    "log_readers = {}\n",
    "for logid in logs[:20]:\n",
    "    log_readers[logid] = LogReader(f\"s3://pit30m/{logid}/\", partitions=[PreProcessPartition.VALID])"
   ]
  },
  {
   "cell_type": "code",
   "execution_count": 28,
   "metadata": {},
   "outputs": [
    {
     "name": "stderr",
     "output_type": "stream",
     "text": [
      "  0%|          | 0/20 [00:00<?, ?it/s]"
     ]
    },
    {
     "name": "stdout",
     "output_type": "stream",
     "text": [
      "Total included: 0\n"
     ]
    },
    {
     "name": "stderr",
     "output_type": "stream",
     "text": [
      "\n"
     ]
    },
    {
     "data": {
      "image/png": "[encoded data removed]",
      "text/plain": [
       "<Figure size 1000x1000 with 1 Axes>"
      ]
     },
     "metadata": {},
     "output_type": "display_data"
    }
   ],
   "source": [
    "figsz = 20 // 2\n",
    "fig = plt.figure(figsize=(figsz, figsz), dpi=100, facecolor='w', edgecolor='k')\n",
    "\n",
    "included = 0\n",
    "for log_id, lr in tqdm(log_readers.items()):\n",
    "    \n",
    "    hidden_in_log = 0\n",
    "    # index = lr.get_cam_geo_index(CamName.MIDDLE_FRONT_WIDE)\n",
    "    index = lr.map_relative_poses_dense\n",
    "    break\n",
    "    # index = lr.utm_poses_dense\n",
    "    print(index.dtype.names)\n",
    "    \n",
    "    x = index[\"utm_x\"]\n",
    "    y = index[\"utm_y\"]\n",
    "    sc = plt.scatter(x, y, s=0.5, alpha=0.5)\n",
    "    break\n",
    "    \n",
    "    included += len(x)\n",
    "    \n",
    "    # percent_hidden = 100 * hidden_in_log / len(utm)\n",
    "    # if percent_hidden > 90: \n",
    "    #     print(f\"{log_id} has {hidden_in_log:_} poses to hide ({percent_hidden:.2f}%)\")\n",
    "\n",
    "plt.axis(\"square\")\n",
    "plt.xlabel(\"Easting\")\n",
    "plt.ylabel(\"Northing\")\n",
    "print(f\"Total included: {included:_}\")"
   ]
  },
  {
   "cell_type": "code",
   "execution_count": 41,
   "metadata": {},
   "outputs": [
    {
     "data": {
      "text/plain": [
       "[UUID('00000000-0000-0000-0000-000000000000'),\n",
       " UUID('00a53038-3072-4115-f458-02769036233f'),\n",
       " UUID('082c2a5a-7516-4f9e-fce0-6ab6eb3e0965'),\n",
       " UUID('0d864017-a690-4255-c225-551e3c48705f'),\n",
       " UUID('105b3cdb-0ce3-4aec-c667-8b5ecfac2874'),\n",
       " UUID('12e48274-21e0-4340-d3fa-101b21a1baab'),\n",
       " UUID('17b09d4c-2514-43c8-f3e3-8133a4ebc62e'),\n",
       " UUID('17e4e37a-17c5-42ff-faed-c646cc9db2c9'),\n",
       " UUID('20d6e773-1562-43a2-ed4d-ea344f57c41d'),\n",
       " UUID('23a758df-eff6-4416-f68d-777972106245'),\n",
       " UUID('25ca0525-a64d-48cc-cfc4-af3f06570621'),\n",
       " UUID('260b1e82-67dd-4343-f4dd-d59dd7d54ac7'),\n",
       " UUID('2e9a8e56-c301-4ddb-ee8c-057b8da6f002'),\n",
       " UUID('2eee3d5b-e2a7-4a9c-e115-6f2864eb7ff9'),\n",
       " UUID('3e91088e-ad38-4dc8-e170-f0145f26963a'),\n",
       " UUID('44fdefd6-7445-4137-cfdc-8589cfb5e1a9'),\n",
       " UUID('4feef829-f17b-454c-c2c5-b5d87ab49272'),\n",
       " UUID('57c6cfcd-4f25-43a9-f16d-08a4f59ca6d1'),\n",
       " UUID('57e0018e-10b1-422e-fb97-64f93fcbb4ef'),\n",
       " UUID('5b823b3d-2ca8-4d12-ea84-3da66dd3d78a'),\n",
       " UUID('5d4ef0ed-fa18-411d-e8f3-36c7b3807747'),\n",
       " UUID('6010ba9b-8f57-4e5d-eab9-fdad1045d823'),\n",
       " UUID('603aaa59-4fe5-44ca-d9d7-10626505369c'),\n",
       " UUID('61e8b81c-daa0-4244-f5ad-f749fb14fa4e'),\n",
       " UUID('6ac03a33-9f04-4870-e241-f4ec4a528009'),\n",
       " UUID('6bcb20ea-12be-4ea3-c445-e39a7b2163a1'),\n",
       " UUID('6dfa8407-51c2-4bad-e96e-2d62aa656b80'),\n",
       " UUID('7577c8f9-39e8-4112-c76f-6d3894aa789f'),\n",
       " UUID('81e09572-25ad-484f-f155-9c057b002b1c'),\n",
       " UUID('8482d598-744f-4ddd-df16-a5cc358d4533'),\n",
       " UUID('8762f684-98bf-4604-fc1c-9f3aa268f0ae'),\n",
       " UUID('8bee00fb-2c30-430f-cd6e-d8c587ad281d'),\n",
       " UUID('9040630d-7844-48c8-c29d-e92c3b7bc577'),\n",
       " UUID('928bf98f-2e9a-494e-d615-17c4b1b15a30'),\n",
       " UUID('95db225a-4ac1-484e-ce68-a2a44bfb26d4'),\n",
       " UUID('9afadec5-f12e-4b38-dd84-adfabb91bbcb'),\n",
       " UUID('a2da40a2-b5b8-4f7f-cbfd-2487b3622256'),\n",
       " UUID('a57cfebd-f4bf-4e9c-f082-cf87e9174a3e'),\n",
       " UUID('a83f4713-7ff9-49f3-c2d1-50d814a9b4c9'),\n",
       " UUID('aee26d2a-1a82-4438-d0f3-dd9487c26e57'),\n",
       " UUID('b3c3a892-37c3-4db4-d74c-3c1861dbfb03'),\n",
       " UUID('bbdff9c2-29ed-4048-f262-69f7228d02b3'),\n",
       " UUID('bfc50504-0c4c-4fcc-e33d-75ebc480fd58'),\n",
       " UUID('c250c851-7c02-477a-fc5b-7acaa925689d'),\n",
       " UUID('c29c4754-296e-451f-d11f-9a6d0ca043bc'),\n",
       " UUID('c562c23b-369f-4fb8-da14-3ba00a073ca0'),\n",
       " UUID('c87507f3-db4c-49d8-c745-c0a01d081f41'),\n",
       " UUID('cd4f1c99-5b08-4898-cc9d-bc7d61b3d60b'),\n",
       " UUID('d1a4c0a6-44e6-4e20-d42d-cdbc13032f67'),\n",
       " UUID('d6a318e2-5fe0-4394-fd27-e73423f39ef3'),\n",
       " UUID('daec683a-f41b-405b-dd44-d9f12ff1fad7'),\n",
       " UUID('ebe1daaa-04b1-49e2-f875-e574a654bb82'),\n",
       " UUID('f4eddf2f-55c4-4ddb-c8cd-81b60c8c7ad6'),\n",
       " UUID('fdd05341-0519-4b32-c518-5bbdfb29ee34')]"
      ]
     },
     "execution_count": 41,
     "metadata": {},
     "output_type": "execute_result"
    }
   ],
   "source": [
    "sorted([UUID(bytes=x.ljust(16, b\"\\x00\")) for x in np.unique(index[\"submap_id\"])])"
   ]
  },
  {
   "cell_type": "code",
   "execution_count": null,
   "metadata": {},
   "outputs": [],
   "source": [
    "from typing import Iterable\n",
    "from pathlib import Path\n",
    "from joblib import Parallel, delayed\n",
    "import pickle\n",
    "from numpy.lib import recfunctions as rfn\n",
    "\n",
    "def get_utm_poses_with_metadata(lr):\n",
    "    pose_time, pose_valid, pose_xy = lr.utm_poses_dense\n",
    "    time = rfn.unstructured_to_structured(pose_time[:, np.newaxis], names=[\"utm_time\"])\n",
    "    # assert np.all(np.diff(time[\"utm_time\"]) >= 0), \"Pose times are not sorted\"\n",
    "    valid = rfn.unstructured_to_structured(pose_valid[:, np.newaxis], names=[\"utm_valid\"])\n",
    "    # assert len(valid) == len(pose_valid)\n",
    "    xys = rfn.unstructured_to_structured(pose_xy, names=[\"utm_x\", \"utm_y\"])\n",
    "    # assert len(xys) == len(pose_xy)\n",
    "    sensor_poses = rfn.merge_arrays([time, valid, xys], flatten=True)\n",
    "\n",
    "    return lr.log_id, sensor_poses\n",
    "\n",
    "def get_utm_dense_poses(\n",
    "    logs: Iterable[UUID],\n",
    "    logreader_path: Path = Path(\"/mnt/data/pit30m/pose-backup-2023-04-18/\"),\n",
    "    pool: Parallel = None,\n",
    "    pickled: bool = None,\n",
    "):\n",
    "    \"\"\"Multiple ways to get dense poses\n",
    "    Args:\n",
    "        logs: list of log ids whose dense poses we want to load\n",
    "        logreader_path: Path where to load log readers from\n",
    "        pool: pool of parallel workers to load the poses\n",
    "        pickled: whether to load from a pre-dumped pickled file on disk\n",
    "    \"\"\"\n",
    "\n",
    "    log_readers = [LogReader(str(logreader_path / f\"{log}\")) for log in logs]\n",
    "\n",
    "    if pickled:\n",
    "        # If loading from pickle, ignore everything and just load from disk\n",
    "        with open(\"/home/julieta/pickles/utm_dense_poses.pkl\", \"rb\") as handle:\n",
    "            sensor_poses = pickle.load(handle)\n",
    "\n",
    "        # The pickle has everything -- filter for the ones that were asked for\n",
    "        sensor_poses = {log_id: sensor_pose for (log_id, sensor_pose) in sensor_poses.items() if log_id in logs}\n",
    "    else:\n",
    "        if pool:\n",
    "            res = pool(delayed(get_utm_poses_with_metadata)(lr) for lr in log_readers)\n",
    "            sensor_poses = {log_id: index for (log_id, index) in res}\n",
    "        else:\n",
    "            sensor_poses = {\n",
    "                log_id: get_utm_poses_with_metadata(lr)[1]\n",
    "                for (log_id, lr) in tqdm(\n",
    "                    zip(logs, log_readers), total=len(logs), desc=\"Getting dense poses sequentially from disk\"\n",
    "                )\n",
    "            }\n",
    "\n",
    "    log_readers = {log_id: lr for (log_id, lr) in zip(logs, log_readers)}\n",
    "    return sensor_poses, log_readers, pool\n"
   ]
  }
 ],
 "metadata": {
  "kernelspec": {
   "display_name": "pit30m",
   "language": "python",
   "name": "python3"
  },
  "language_info": {
   "codemirror_mode": {
    "name": "ipython",
    "version": 3
   },
   "file_extension": ".py",
   "mimetype": "text/x-python",
   "name": "python",
   "nbconvert_exporter": "python",
   "pygments_lexer": "ipython3",
   "version": "3.10.9"
  },
  "orig_nbformat": 4
 },
 "nbformat": 4,
 "nbformat_minor": 2
}
