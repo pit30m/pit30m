{
 "cells": [
  {
   "cell_type": "markdown",
   "id": "515f40e0",
   "metadata": {},
   "source": [
    "# Compression Analysis\n",
    "\n",
    "Andrei's analysis on the impact of various compression parameters on file size, compression time, and PSNR.\n",
    "\n",
    "If time allows it, I will also look into decompression time but it's not high priority for now."
   ]
  },
  {
   "cell_type": "markdown",
   "id": "8c32227c",
   "metadata": {},
   "source": [
    "## Dataset\n",
    "\n",
    "I sampled 2,500 images from the pre-release Pit30M data, compressed **losslessly** with WebP. The images are sampled at random from 25 different driving logs and 7 cameras, covering urban areas, parks, traffic, etc., as well as a variety of weather and driving condition.\n",
    "\n",
    "The average image size is 2183KiB, computed with this handy one-liner:\n",
    "\n",
    "```bash\n",
    "find $DATASET_DIR -iname '*.webp' -exec ls -la '{}' + | \\\n",
    "    awk '{ total_b+=$5; count+=1 } END { print total_b/count/1024 }' \n",
    "```\n",
    "\n",
    "Given that this covers people*, cars*, trees, buildings, roads, etc. as seen from different view points and focal length, it should give us pretty good signal.\n",
    "\n",
    "*) In the final dataset release, faces and license plates were blurred to preserve privacy."
   ]
  },
  {
   "cell_type": "code",
   "execution_count": 6,
   "id": "cff61998",
   "metadata": {},
   "outputs": [
    {
     "name": "stdout",
     "output_type": "stream",
     "text": [
      "sys.version_info(major=3, minor=9, micro=0, releaselevel='final', serial=0)\n",
      "/home/andrei/miniconda3/envs/devkit309-dev/bin/python\n"
     ]
    }
   ],
   "source": [
    "import io\n",
    "import os\n",
    "import random\n",
    "import sys\n",
    "import time\n",
    "from pathlib import Path\n",
    "\n",
    "import matplotlib.pyplot as plt\n",
    "import numpy as np\n",
    "import skimage.metrics as skm\n",
    "from joblib import Parallel, delayed, Memory\n",
    "from tqdm import tqdm\n",
    "from PIL import Image\n",
    "\n",
    "%matplotlib inline\n",
    "\n",
    "memory = Memory(location=\"/tmp/compression-experiment-pit30m\")\n",
    "\n",
    "print(sys.version_info)\n",
    "print(sys.executable)"
   ]
  },
  {
   "cell_type": "code",
   "execution_count": 7,
   "id": "22eb4f78",
   "metadata": {},
   "outputs": [
    {
     "name": "stdout",
     "output_type": "stream",
     "text": [
      "2500\n"
     ]
    }
   ],
   "source": [
    "DATASET_DIR = Path(\"~/work/pit30m/out/size_analysis\").expanduser()\n",
    "# Limit the number of images to make the computation complete on time\n",
    "#\n",
    "# Especially SSIM computation is slow with the skimage implementation\n",
    "MAX_IMG = 2500\n",
    "\n",
    "random.seed(123)\n",
    "image_fpaths = sorted(list(DATASET_DIR.glob(\"**/*.webp\")))\n",
    "random.shuffle(image_fpaths)\n",
    "image_fpaths = image_fpaths[:MAX_IMG]\n",
    "print(len(image_fpaths))"
   ]
  },
  {
   "cell_type": "code",
   "execution_count": 8,
   "id": "75956fb4",
   "metadata": {},
   "outputs": [],
   "source": [
    "# all_images = [(fpath, Image.open(fpath)) for fpath in image_fpaths]"
   ]
  },
  {
   "cell_type": "code",
   "execution_count": null,
   "id": "37bc3326",
   "metadata": {
    "scrolled": false
   },
   "outputs": [
    {
     "name": "stdout",
     "output_type": "stream",
     "text": [
      "________________________________________________________________________________\n",
      "[Memory] Calling __main__--tmp-ipykernel-3732551948.run_configuration...\n",
      "run_configuration([ PosixPath('/home/andrei/work/pit30m/out/size_analysis/f81c4def-1e47-4b83-cff8-3a8d2f9e5538/hdcam_10_port_front_roof_wide/0013469.webp'),\n",
      "  PosixPath('/home/andrei/work/pit30m/out/size_analysis/4644d0d4-c4c9-4dad-dbaf-b66c4932178c/hdcam_12_middle_front_roof_wide/0003797.webp'),\n",
      "  PosixPath('/home/andrei/work/pit30m/out/size_analysis/46d5d171-8471-441a-e67e-3d434949f8ea/hdcam_12_middle_front_roof_narrow_right/0022236.webp'),\n",
      "  PosixPath('/home/andrei/work/pit30m/out/size_analysis/9dd6c8d1-1461-459c-e2b8-92682ab1807e/hdcam_08_port_rear_roof_wide/0010315.webp'),\n",
      "  PosixPath('/home/andrei/work/pit30m/out/size_analysis/4644d0d4-c4c9-4dad-dbaf-b66c4932178c/hdcam_12_middle_front_roof_wide/0000167...., \n",
      "'jpeg', 65, -1)\n",
      "________________________________________________________________________________\n",
      "[Memory] Calling __main__--tmp-ipykernel-3732551948.run_configuration...\n",
      "run_configuration([ PosixPath('/home/andrei/work/pit30m/out/size_analysis/f81c4def-1e47-4b83-cff8-3a8d2f9e5538/hdcam_10_port_front_roof_wide/0013469.webp'),\n",
      "  PosixPath('/home/andrei/work/pit30m/out/size_analysis/4644d0d4-c4c9-4dad-dbaf-b66c4932178c/hdcam_12_middle_front_roof_wide/0003797.webp'),\n",
      "  PosixPath('/home/andrei/work/pit30m/out/size_analysis/46d5d171-8471-441a-e67e-3d434949f8ea/hdcam_12_middle_front_roof_narrow_right/0022236.webp'),\n",
      "  PosixPath('/home/andrei/work/pit30m/out/size_analysis/9dd6c8d1-1461-459c-e2b8-92682ab1807e/hdcam_08_port_rear_roof_wide/0010315.webp'),\n",
      "  PosixPath('/home/andrei/work/pit30m/out/size_analysis/4644d0d4-c4c9-4dad-dbaf-b66c4932178c/hdcam_12_middle_front_roof_wide/0000167...., \n",
      "'jpeg', 100, -1)\n",
      "________________________________________________________________________________\n",
      "[Memory] Calling __main__--tmp-ipykernel-3732551948.run_configuration...\n",
      "run_configuration([ PosixPath('/home/andrei/work/pit30m/out/size_analysis/f81c4def-1e47-4b83-cff8-3a8d2f9e5538/hdcam_10_port_front_roof_wide/0013469.webp'),\n",
      "  PosixPath('/home/andrei/work/pit30m/out/size_analysis/4644d0d4-c4c9-4dad-dbaf-b66c4932178c/hdcam_12_middle_front_roof_wide/0003797.webp'),\n",
      "  PosixPath('/home/andrei/work/pit30m/out/size_analysis/46d5d171-8471-441a-e67e-3d434949f8ea/hdcam_12_middle_front_roof_narrow_right/0022236.webp'),\n",
      "  PosixPath('/home/andrei/work/pit30m/out/size_analysis/9dd6c8d1-1461-459c-e2b8-92682ab1807e/hdcam_08_port_rear_roof_wide/0010315.webp'),\n",
      "  PosixPath('/home/andrei/work/pit30m/out/size_analysis/4644d0d4-c4c9-4dad-dbaf-b66c4932178c/hdcam_12_middle_front_roof_wide/0000167...., \n",
      "'jpeg', 70, -1)\n",
      "________________________________________________________________________________\n",
      "[Memory] Calling __main__--tmp-ipykernel-3732551948.run_configuration...\n",
      "run_configuration([ PosixPath('/home/andrei/work/pit30m/out/size_analysis/f81c4def-1e47-4b83-cff8-3a8d2f9e5538/hdcam_10_port_front_roof_wide/0013469.webp'),\n",
      "  PosixPath('/home/andrei/work/pit30m/out/size_analysis/4644d0d4-c4c9-4dad-dbaf-b66c4932178c/hdcam_12_middle_front_roof_wide/0003797.webp'),\n",
      "  PosixPath('/home/andrei/work/pit30m/out/size_analysis/46d5d171-8471-441a-e67e-3d434949f8ea/hdcam_12_middle_front_roof_narrow_right/0022236.webp'),\n",
      "  PosixPath('/home/andrei/work/pit30m/out/size_analysis/9dd6c8d1-1461-459c-e2b8-92682ab1807e/hdcam_08_port_rear_roof_wide/0010315.webp'),\n",
      "  PosixPath('/home/andrei/work/pit30m/out/size_analysis/4644d0d4-c4c9-4dad-dbaf-b66c4932178c/hdcam_12_middle_front_roof_wide/0000167...., \n",
      "'jpeg', 85, -1)\n",
      "________________________________________________________________________________\n",
      "[Memory] Calling __main__--tmp-ipykernel-3732551948.run_configuration...\n",
      "run_configuration([ PosixPath('/home/andrei/work/pit30m/out/size_analysis/f81c4def-1e47-4b83-cff8-3a8d2f9e5538/hdcam_10_port_front_roof_wide/0013469.webp'),\n",
      "  PosixPath('/home/andrei/work/pit30m/out/size_analysis/4644d0d4-c4c9-4dad-dbaf-b66c4932178c/hdcam_12_middle_front_roof_wide/0003797.webp'),\n",
      "  PosixPath('/home/andrei/work/pit30m/out/size_analysis/46d5d171-8471-441a-e67e-3d434949f8ea/hdcam_12_middle_front_roof_narrow_right/0022236.webp'),\n",
      "  PosixPath('/home/andrei/work/pit30m/out/size_analysis/9dd6c8d1-1461-459c-e2b8-92682ab1807e/hdcam_08_port_rear_roof_wide/0010315.webp'),\n",
      "  PosixPath('/home/andrei/work/pit30m/out/size_analysis/4644d0d4-c4c9-4dad-dbaf-b66c4932178c/hdcam_12_middle_front_roof_wide/0000167...., \n",
      "'jpeg', 75, -1)\n",
      "________________________________________________________________________________\n",
      "[Memory] Calling __main__--tmp-ipykernel-3732551948.run_configuration...\n",
      "run_configuration([ PosixPath('/home/andrei/work/pit30m/out/size_analysis/f81c4def-1e47-4b83-cff8-3a8d2f9e5538/hdcam_10_port_front_roof_wide/0013469.webp'),\n",
      "  PosixPath('/home/andrei/work/pit30m/out/size_analysis/4644d0d4-c4c9-4dad-dbaf-b66c4932178c/hdcam_12_middle_front_roof_wide/0003797.webp'),\n",
      "  PosixPath('/home/andrei/work/pit30m/out/size_analysis/46d5d171-8471-441a-e67e-3d434949f8ea/hdcam_12_middle_front_roof_narrow_right/0022236.webp'),\n",
      "  PosixPath('/home/andrei/work/pit30m/out/size_analysis/9dd6c8d1-1461-459c-e2b8-92682ab1807e/hdcam_08_port_rear_roof_wide/0010315.webp'),\n",
      "  PosixPath('/home/andrei/work/pit30m/out/size_analysis/4644d0d4-c4c9-4dad-dbaf-b66c4932178c/hdcam_12_middle_front_roof_wide/0000167...., \n",
      "'jpeg', 80, -1)\n",
      "________________________________________________________________________________\n",
      "[Memory] Calling __main__--tmp-ipykernel-3732551948.run_configuration...\n",
      "run_configuration([ PosixPath('/home/andrei/work/pit30m/out/size_analysis/f81c4def-1e47-4b83-cff8-3a8d2f9e5538/hdcam_10_port_front_roof_wide/0013469.webp'),\n",
      "  PosixPath('/home/andrei/work/pit30m/out/size_analysis/4644d0d4-c4c9-4dad-dbaf-b66c4932178c/hdcam_12_middle_front_roof_wide/0003797.webp'),\n",
      "  PosixPath('/home/andrei/work/pit30m/out/size_analysis/46d5d171-8471-441a-e67e-3d434949f8ea/hdcam_12_middle_front_roof_narrow_right/0022236.webp'),\n",
      "  PosixPath('/home/andrei/work/pit30m/out/size_analysis/9dd6c8d1-1461-459c-e2b8-92682ab1807e/hdcam_08_port_rear_roof_wide/0010315.webp'),\n",
      "  PosixPath('/home/andrei/work/pit30m/out/size_analysis/4644d0d4-c4c9-4dad-dbaf-b66c4932178c/hdcam_12_middle_front_roof_wide/0000167...., \n",
      "'jpeg', 90, -1)\n",
      "________________________________________________________________________________\n",
      "[Memory] Calling __main__--tmp-ipykernel-3732551948.run_configuration...\n",
      "run_configuration([ PosixPath('/home/andrei/work/pit30m/out/size_analysis/f81c4def-1e47-4b83-cff8-3a8d2f9e5538/hdcam_10_port_front_roof_wide/0013469.webp'),\n",
      "  PosixPath('/home/andrei/work/pit30m/out/size_analysis/4644d0d4-c4c9-4dad-dbaf-b66c4932178c/hdcam_12_middle_front_roof_wide/0003797.webp'),\n",
      "  PosixPath('/home/andrei/work/pit30m/out/size_analysis/46d5d171-8471-441a-e67e-3d434949f8ea/hdcam_12_middle_front_roof_narrow_right/0022236.webp'),\n",
      "  PosixPath('/home/andrei/work/pit30m/out/size_analysis/9dd6c8d1-1461-459c-e2b8-92682ab1807e/hdcam_08_port_rear_roof_wide/0010315.webp'),\n",
      "  PosixPath('/home/andrei/work/pit30m/out/size_analysis/4644d0d4-c4c9-4dad-dbaf-b66c4932178c/hdcam_12_middle_front_roof_wide/0000167...., \n",
      "'jpeg', 95, -1)\n"
     ]
    },
    {
     "name": "stderr",
     "output_type": "stream",
     "text": [
      "100%|██████████| 2500/2500 [1:03:21<00:00,  1.52s/it, jpeg q=75 m=-1]]\n",
      " 99%|█████████▉| 2479/2500 [1:03:22<00:31,  1.51s/it, jpeg q=85 m=-1]]"
     ]
    },
    {
     "name": "stdout",
     "output_type": "stream",
     "text": [
      "____________________________________________run_configuration - 3801.9s, 63.4min\n",
      "________________________________________________________________________________\n",
      "[Memory] Calling __main__--tmp-ipykernel-3732551948.run_configuration...\n",
      "run_configuration([ PosixPath('/home/andrei/work/pit30m/out/size_analysis/f81c4def-1e47-4b83-cff8-3a8d2f9e5538/hdcam_10_port_front_roof_wide/0013469.webp'),\n",
      "  PosixPath('/home/andrei/work/pit30m/out/size_analysis/4644d0d4-c4c9-4dad-dbaf-b66c4932178c/hdcam_12_middle_front_roof_wide/0003797.webp'),\n",
      "  PosixPath('/home/andrei/work/pit30m/out/size_analysis/46d5d171-8471-441a-e67e-3d434949f8ea/hdcam_12_middle_front_roof_narrow_right/0022236.webp'),\n",
      "  PosixPath('/home/andrei/work/pit30m/out/size_analysis/9dd6c8d1-1461-459c-e2b8-92682ab1807e/hdcam_08_port_rear_roof_wide/0010315.webp'),\n",
      "  PosixPath('/home/andrei/work/pit30m/out/size_analysis/4644d0d4-c4c9-4dad-dbaf-b66c4932178c/hdcam_12_middle_front_roof_wide/0000167...., \n",
      "'webp', 65, 0)\n"
     ]
    },
    {
     "name": "stderr",
     "output_type": "stream",
     "text": [
      "100%|██████████| 2500/2500 [1:03:22<00:00,  1.52s/it, jpeg q=70 m=-1]\n",
      "100%|█████████▉| 2491/2500 [1:03:22<00:12,  1.44s/it, jpeg q=80 m=-1]"
     ]
    },
    {
     "name": "stdout",
     "output_type": "stream",
     "text": [
      "____________________________________________run_configuration - 3802.8s, 63.4min\n",
      "________________________________________________________________________________\n",
      "[Memory] Calling __main__--tmp-ipykernel-3732551948.run_configuration...\n",
      "run_configuration([ PosixPath('/home/andrei/work/pit30m/out/size_analysis/f81c4def-1e47-4b83-cff8-3a8d2f9e5538/hdcam_10_port_front_roof_wide/0013469.webp'),\n",
      "  PosixPath('/home/andrei/work/pit30m/out/size_analysis/4644d0d4-c4c9-4dad-dbaf-b66c4932178c/hdcam_12_middle_front_roof_wide/0003797.webp'),\n",
      "  PosixPath('/home/andrei/work/pit30m/out/size_analysis/46d5d171-8471-441a-e67e-3d434949f8ea/hdcam_12_middle_front_roof_narrow_right/0022236.webp'),\n",
      "  PosixPath('/home/andrei/work/pit30m/out/size_analysis/9dd6c8d1-1461-459c-e2b8-92682ab1807e/hdcam_08_port_rear_roof_wide/0010315.webp'),\n",
      "  PosixPath('/home/andrei/work/pit30m/out/size_analysis/4644d0d4-c4c9-4dad-dbaf-b66c4932178c/hdcam_12_middle_front_roof_wide/0000167...., \n",
      "'webp', 65, 1)\n"
     ]
    },
    {
     "name": "stderr",
     "output_type": "stream",
     "text": [
      "100%|██████████| 2500/2500 [1:03:26<00:00,  1.52s/it, jpeg q=65 m=-1]]\n",
      "100%|█████████▉| 2494/2500 [1:03:26<00:08,  1.44s/it, jpeg q=80 m=-1]]"
     ]
    },
    {
     "name": "stdout",
     "output_type": "stream",
     "text": [
      "____________________________________________run_configuration - 3807.0s, 63.5min\n",
      "________________________________________________________________________________\n",
      "[Memory] Calling __main__--tmp-ipykernel-3732551948.run_configuration...\n",
      "run_configuration([ PosixPath('/home/andrei/work/pit30m/out/size_analysis/f81c4def-1e47-4b83-cff8-3a8d2f9e5538/hdcam_10_port_front_roof_wide/0013469.webp'),\n",
      "  PosixPath('/home/andrei/work/pit30m/out/size_analysis/4644d0d4-c4c9-4dad-dbaf-b66c4932178c/hdcam_12_middle_front_roof_wide/0003797.webp'),\n",
      "  PosixPath('/home/andrei/work/pit30m/out/size_analysis/46d5d171-8471-441a-e67e-3d434949f8ea/hdcam_12_middle_front_roof_narrow_right/0022236.webp'),\n",
      "  PosixPath('/home/andrei/work/pit30m/out/size_analysis/9dd6c8d1-1461-459c-e2b8-92682ab1807e/hdcam_08_port_rear_roof_wide/0010315.webp'),\n",
      "  PosixPath('/home/andrei/work/pit30m/out/size_analysis/4644d0d4-c4c9-4dad-dbaf-b66c4932178c/hdcam_12_middle_front_roof_wide/0000167...., \n",
      "'webp', 65, 2)\n"
     ]
    },
    {
     "name": "stderr",
     "output_type": "stream",
     "text": [
      "100%|██████████| 2500/2500 [1:03:36<00:00,  1.53s/it, jpeg q=80 m=-1]]\n",
      " 99%|█████████▉| 2481/2500 [1:03:36<00:28,  1.48s/it, jpeg q=90 m=-1]"
     ]
    },
    {
     "name": "stdout",
     "output_type": "stream",
     "text": [
      "____________________________________________run_configuration - 3816.5s, 63.6min\n",
      "________________________________________________________________________________\n",
      "[Memory] Calling __main__--tmp-ipykernel-3732551948.run_configuration...\n",
      "run_configuration([ PosixPath('/home/andrei/work/pit30m/out/size_analysis/f81c4def-1e47-4b83-cff8-3a8d2f9e5538/hdcam_10_port_front_roof_wide/0013469.webp'),\n",
      "  PosixPath('/home/andrei/work/pit30m/out/size_analysis/4644d0d4-c4c9-4dad-dbaf-b66c4932178c/hdcam_12_middle_front_roof_wide/0003797.webp'),\n",
      "  PosixPath('/home/andrei/work/pit30m/out/size_analysis/46d5d171-8471-441a-e67e-3d434949f8ea/hdcam_12_middle_front_roof_narrow_right/0022236.webp'),\n",
      "  PosixPath('/home/andrei/work/pit30m/out/size_analysis/9dd6c8d1-1461-459c-e2b8-92682ab1807e/hdcam_08_port_rear_roof_wide/0010315.webp'),\n",
      "  PosixPath('/home/andrei/work/pit30m/out/size_analysis/4644d0d4-c4c9-4dad-dbaf-b66c4932178c/hdcam_12_middle_front_roof_wide/0000167...., \n",
      "'webp', 65, 3)\n"
     ]
    },
    {
     "name": "stderr",
     "output_type": "stream",
     "text": [
      "100%|██████████| 2500/2500 [1:03:53<00:00,  1.53s/it, jpeg q=85 m=-1]]\n",
      "  0%|          | 0/2500 [00:00<?, ?it/s, webp q=65 m=4]p q=65 m=2]=-1]"
     ]
    },
    {
     "name": "stdout",
     "output_type": "stream",
     "text": [
      "____________________________________________run_configuration - 3833.8s, 63.9min\n",
      "________________________________________________________________________________\n",
      "[Memory] Calling __main__--tmp-ipykernel-3732551948.run_configuration...\n",
      "run_configuration([ PosixPath('/home/andrei/work/pit30m/out/size_analysis/f81c4def-1e47-4b83-cff8-3a8d2f9e5538/hdcam_10_port_front_roof_wide/0013469.webp'),\n",
      "  PosixPath('/home/andrei/work/pit30m/out/size_analysis/4644d0d4-c4c9-4dad-dbaf-b66c4932178c/hdcam_12_middle_front_roof_wide/0003797.webp'),\n",
      "  PosixPath('/home/andrei/work/pit30m/out/size_analysis/46d5d171-8471-441a-e67e-3d434949f8ea/hdcam_12_middle_front_roof_narrow_right/0022236.webp'),\n",
      "  PosixPath('/home/andrei/work/pit30m/out/size_analysis/9dd6c8d1-1461-459c-e2b8-92682ab1807e/hdcam_08_port_rear_roof_wide/0010315.webp'),\n",
      "  PosixPath('/home/andrei/work/pit30m/out/size_analysis/4644d0d4-c4c9-4dad-dbaf-b66c4932178c/hdcam_12_middle_front_roof_wide/0000167...., \n",
      "'webp', 65, 4)\n"
     ]
    },
    {
     "name": "stderr",
     "output_type": "stream",
     "text": [
      "100%|██████████| 2500/2500 [1:04:05<00:00,  1.54s/it, jpeg q=90 m=-1]]\n",
      "  0%|          | 0/2500 [00:00<?, ?it/s, webp q=65 m=5]q=65 m=2]  "
     ]
    },
    {
     "name": "stdout",
     "output_type": "stream",
     "text": [
      "____________________________________________run_configuration - 3845.5s, 64.1min\n",
      "________________________________________________________________________________\n",
      "[Memory] Calling __main__--tmp-ipykernel-3732551948.run_configuration...\n",
      "run_configuration([ PosixPath('/home/andrei/work/pit30m/out/size_analysis/f81c4def-1e47-4b83-cff8-3a8d2f9e5538/hdcam_10_port_front_roof_wide/0013469.webp'),\n",
      "  PosixPath('/home/andrei/work/pit30m/out/size_analysis/4644d0d4-c4c9-4dad-dbaf-b66c4932178c/hdcam_12_middle_front_roof_wide/0003797.webp'),\n",
      "  PosixPath('/home/andrei/work/pit30m/out/size_analysis/46d5d171-8471-441a-e67e-3d434949f8ea/hdcam_12_middle_front_roof_narrow_right/0022236.webp'),\n",
      "  PosixPath('/home/andrei/work/pit30m/out/size_analysis/9dd6c8d1-1461-459c-e2b8-92682ab1807e/hdcam_08_port_rear_roof_wide/0010315.webp'),\n",
      "  PosixPath('/home/andrei/work/pit30m/out/size_analysis/4644d0d4-c4c9-4dad-dbaf-b66c4932178c/hdcam_12_middle_front_roof_wide/0000167...., \n",
      "'webp', 65, 5)\n"
     ]
    },
    {
     "name": "stderr",
     "output_type": "stream",
     "text": [
      "100%|██████████| 2500/2500 [1:04:17<00:00,  1.54s/it, jpeg q=95 m=-1]]\n",
      "  1%|          | 29/2500 [00:44<1:03:10,  1.53s/it, webp q=65 m=3]=-1]"
     ]
    },
    {
     "name": "stdout",
     "output_type": "stream",
     "text": [
      "____________________________________________run_configuration - 3857.4s, 64.3min\n",
      "________________________________________________________________________________\n",
      "[Memory] Calling __main__--tmp-ipykernel-3732551948.run_configuration...\n",
      "run_configuration([ PosixPath('/home/andrei/work/pit30m/out/size_analysis/f81c4def-1e47-4b83-cff8-3a8d2f9e5538/hdcam_10_port_front_roof_wide/0013469.webp'),\n",
      "  PosixPath('/home/andrei/work/pit30m/out/size_analysis/4644d0d4-c4c9-4dad-dbaf-b66c4932178c/hdcam_12_middle_front_roof_wide/0003797.webp'),\n",
      "  PosixPath('/home/andrei/work/pit30m/out/size_analysis/46d5d171-8471-441a-e67e-3d434949f8ea/hdcam_12_middle_front_roof_narrow_right/0022236.webp'),\n",
      "  PosixPath('/home/andrei/work/pit30m/out/size_analysis/9dd6c8d1-1461-459c-e2b8-92682ab1807e/hdcam_08_port_rear_roof_wide/0010315.webp'),\n",
      "  PosixPath('/home/andrei/work/pit30m/out/size_analysis/4644d0d4-c4c9-4dad-dbaf-b66c4932178c/hdcam_12_middle_front_roof_wide/0000167...., \n",
      "'webp', 65, 6)\n"
     ]
    },
    {
     "name": "stderr",
     "output_type": "stream",
     "text": [
      "100%|██████████| 2500/2500 [1:05:48<00:00,  1.58s/it, jpeg q=100 m=-1]\n",
      "  0%|          | 0/2500 [00:00<?, ?it/s, webp q=70 m=0]p q=65 m=4]"
     ]
    },
    {
     "name": "stdout",
     "output_type": "stream",
     "text": [
      "____________________________________________run_configuration - 3948.7s, 65.8min\n",
      "________________________________________________________________________________\n",
      "[Memory] Calling __main__--tmp-ipykernel-3732551948.run_configuration...\n",
      "run_configuration([ PosixPath('/home/andrei/work/pit30m/out/size_analysis/f81c4def-1e47-4b83-cff8-3a8d2f9e5538/hdcam_10_port_front_roof_wide/0013469.webp'),\n",
      "  PosixPath('/home/andrei/work/pit30m/out/size_analysis/4644d0d4-c4c9-4dad-dbaf-b66c4932178c/hdcam_12_middle_front_roof_wide/0003797.webp'),\n",
      "  PosixPath('/home/andrei/work/pit30m/out/size_analysis/46d5d171-8471-441a-e67e-3d434949f8ea/hdcam_12_middle_front_roof_narrow_right/0022236.webp'),\n",
      "  PosixPath('/home/andrei/work/pit30m/out/size_analysis/9dd6c8d1-1461-459c-e2b8-92682ab1807e/hdcam_08_port_rear_roof_wide/0010315.webp'),\n",
      "  PosixPath('/home/andrei/work/pit30m/out/size_analysis/4644d0d4-c4c9-4dad-dbaf-b66c4932178c/hdcam_12_middle_front_roof_wide/0000167...., \n",
      "'webp', 70, 0)\n"
     ]
    },
    {
     "name": "stderr",
     "output_type": "stream",
     "text": [
      "100%|██████████| 2500/2500 [1:00:25<00:00,  1.45s/it, webp q=65 m=1]\n",
      " 97%|█████████▋| 2436/2500 [1:00:26<01:33,  1.47s/it, webp q=65 m=0]"
     ]
    },
    {
     "name": "stdout",
     "output_type": "stream",
     "text": [
      "____________________________________________run_configuration - 3625.8s, 60.4min\n",
      "________________________________________________________________________________\n",
      "[Memory] Calling __main__--tmp-ipykernel-3732551948.run_configuration...\n",
      "run_configuration([ PosixPath('/home/andrei/work/pit30m/out/size_analysis/f81c4def-1e47-4b83-cff8-3a8d2f9e5538/hdcam_10_port_front_roof_wide/0013469.webp'),\n",
      "  PosixPath('/home/andrei/work/pit30m/out/size_analysis/4644d0d4-c4c9-4dad-dbaf-b66c4932178c/hdcam_12_middle_front_roof_wide/0003797.webp'),\n",
      "  PosixPath('/home/andrei/work/pit30m/out/size_analysis/46d5d171-8471-441a-e67e-3d434949f8ea/hdcam_12_middle_front_roof_narrow_right/0022236.webp'),\n",
      "  PosixPath('/home/andrei/work/pit30m/out/size_analysis/9dd6c8d1-1461-459c-e2b8-92682ab1807e/hdcam_08_port_rear_roof_wide/0010315.webp'),\n",
      "  PosixPath('/home/andrei/work/pit30m/out/size_analysis/4644d0d4-c4c9-4dad-dbaf-b66c4932178c/hdcam_12_middle_front_roof_wide/0000167...., \n",
      "'webp', 70, 1)\n"
     ]
    },
    {
     "name": "stderr",
     "output_type": "stream",
     "text": [
      "100%|██████████| 2500/2500 [1:01:14<00:00,  1.47s/it, webp q=65 m=2]\n",
      " 97%|█████████▋| 2433/2500 [58:53<01:37,  1.45s/it, webp q=70 m=0]6]"
     ]
    },
    {
     "name": "stdout",
     "output_type": "stream",
     "text": [
      "____________________________________________run_configuration - 3674.6s, 61.2min\n",
      "________________________________________________________________________________\n",
      "[Memory] Calling __main__--tmp-ipykernel-3732551948.run_configuration...\n",
      "run_configuration([ PosixPath('/home/andrei/work/pit30m/out/size_analysis/f81c4def-1e47-4b83-cff8-3a8d2f9e5538/hdcam_10_port_front_roof_wide/0013469.webp'),\n",
      "  PosixPath('/home/andrei/work/pit30m/out/size_analysis/4644d0d4-c4c9-4dad-dbaf-b66c4932178c/hdcam_12_middle_front_roof_wide/0003797.webp'),\n",
      "  PosixPath('/home/andrei/work/pit30m/out/size_analysis/46d5d171-8471-441a-e67e-3d434949f8ea/hdcam_12_middle_front_roof_narrow_right/0022236.webp'),\n",
      "  PosixPath('/home/andrei/work/pit30m/out/size_analysis/9dd6c8d1-1461-459c-e2b8-92682ab1807e/hdcam_08_port_rear_roof_wide/0010315.webp'),\n",
      "  PosixPath('/home/andrei/work/pit30m/out/size_analysis/4644d0d4-c4c9-4dad-dbaf-b66c4932178c/hdcam_12_middle_front_roof_wide/0000167...., \n",
      "'webp', 70, 2)\n"
     ]
    },
    {
     "name": "stderr",
     "output_type": "stream",
     "text": [
      "100%|██████████| 2500/2500 [1:02:01<00:00,  1.49s/it, webp q=65 m=0]\n",
      "  0%|          | 0/2500 [00:00<?, ?it/s, webp q=70 m=3]p q=70 m=2]"
     ]
    },
    {
     "name": "stdout",
     "output_type": "stream",
     "text": [
      "____________________________________________run_configuration - 3722.1s, 62.0min\n",
      "________________________________________________________________________________\n",
      "[Memory] Calling __main__--tmp-ipykernel-3732551948.run_configuration...\n",
      "run_configuration([ PosixPath('/home/andrei/work/pit30m/out/size_analysis/f81c4def-1e47-4b83-cff8-3a8d2f9e5538/hdcam_10_port_front_roof_wide/0013469.webp'),\n",
      "  PosixPath('/home/andrei/work/pit30m/out/size_analysis/4644d0d4-c4c9-4dad-dbaf-b66c4932178c/hdcam_12_middle_front_roof_wide/0003797.webp'),\n",
      "  PosixPath('/home/andrei/work/pit30m/out/size_analysis/46d5d171-8471-441a-e67e-3d434949f8ea/hdcam_12_middle_front_roof_narrow_right/0022236.webp'),\n",
      "  PosixPath('/home/andrei/work/pit30m/out/size_analysis/9dd6c8d1-1461-459c-e2b8-92682ab1807e/hdcam_08_port_rear_roof_wide/0010315.webp'),\n",
      "  PosixPath('/home/andrei/work/pit30m/out/size_analysis/4644d0d4-c4c9-4dad-dbaf-b66c4932178c/hdcam_12_middle_front_roof_wide/0000167...., \n",
      "'webp', 70, 3)\n"
     ]
    },
    {
     "name": "stderr",
     "output_type": "stream",
     "text": [
      "100%|██████████| 2500/2500 [1:00:30<00:00,  1.45s/it, webp q=70 m=0]\n",
      " 87%|████████▋ | 2177/2500 [1:02:02<08:56,  1.66s/it, webp q=65 m=6]"
     ]
    },
    {
     "name": "stdout",
     "output_type": "stream",
     "text": [
      "____________________________________________run_configuration - 3631.0s, 60.5min\n",
      "________________________________________________________________________________\n",
      "[Memory] Calling __main__--tmp-ipykernel-3732551948.run_configuration...\n",
      "run_configuration([ PosixPath('/home/andrei/work/pit30m/out/size_analysis/f81c4def-1e47-4b83-cff8-3a8d2f9e5538/hdcam_10_port_front_roof_wide/0013469.webp'),\n",
      "  PosixPath('/home/andrei/work/pit30m/out/size_analysis/4644d0d4-c4c9-4dad-dbaf-b66c4932178c/hdcam_12_middle_front_roof_wide/0003797.webp'),\n",
      "  PosixPath('/home/andrei/work/pit30m/out/size_analysis/46d5d171-8471-441a-e67e-3d434949f8ea/hdcam_12_middle_front_roof_narrow_right/0022236.webp'),\n",
      "  PosixPath('/home/andrei/work/pit30m/out/size_analysis/9dd6c8d1-1461-459c-e2b8-92682ab1807e/hdcam_08_port_rear_roof_wide/0010315.webp'),\n",
      "  PosixPath('/home/andrei/work/pit30m/out/size_analysis/4644d0d4-c4c9-4dad-dbaf-b66c4932178c/hdcam_12_middle_front_roof_wide/0000167...., \n",
      "'webp', 70, 4)\n"
     ]
    },
    {
     "name": "stderr",
     "output_type": "stream",
     "text": [
      "100%|██████████| 2500/2500 [1:04:52<00:00,  1.56s/it, webp q=65 m=3]\n",
      "  0%|          | 0/2500 [00:00<?, ?it/s, webp q=70 m=5] q=70 m=2]]4]"
     ]
    },
    {
     "name": "stdout",
     "output_type": "stream",
     "text": [
      "____________________________________________run_configuration - 3892.4s, 64.9min\n",
      "________________________________________________________________________________\n",
      "[Memory] Calling __main__--tmp-ipykernel-3732551948.run_configuration...\n",
      "run_configuration([ PosixPath('/home/andrei/work/pit30m/out/size_analysis/f81c4def-1e47-4b83-cff8-3a8d2f9e5538/hdcam_10_port_front_roof_wide/0013469.webp'),\n",
      "  PosixPath('/home/andrei/work/pit30m/out/size_analysis/4644d0d4-c4c9-4dad-dbaf-b66c4932178c/hdcam_12_middle_front_roof_wide/0003797.webp'),\n",
      "  PosixPath('/home/andrei/work/pit30m/out/size_analysis/46d5d171-8471-441a-e67e-3d434949f8ea/hdcam_12_middle_front_roof_narrow_right/0022236.webp'),\n",
      "  PosixPath('/home/andrei/work/pit30m/out/size_analysis/9dd6c8d1-1461-459c-e2b8-92682ab1807e/hdcam_08_port_rear_roof_wide/0010315.webp'),\n",
      "  PosixPath('/home/andrei/work/pit30m/out/size_analysis/4644d0d4-c4c9-4dad-dbaf-b66c4932178c/hdcam_12_middle_front_roof_wide/0000167...., \n",
      "'webp', 70, 5)\n"
     ]
    },
    {
     "name": "stderr",
     "output_type": "stream",
     "text": [
      "100%|██████████| 2500/2500 [1:04:27<00:00,  1.55s/it, webp q=65 m=5]\n",
      " 96%|█████████▋| 2409/2500 [1:04:39<02:19,  1.54s/it, webp q=65 m=4]"
     ]
    },
    {
     "name": "stdout",
     "output_type": "stream",
     "text": [
      "____________________________________________run_configuration - 3867.7s, 64.5min\n",
      "________________________________________________________________________________\n",
      "[Memory] Calling __main__--tmp-ipykernel-3732551948.run_configuration...\n",
      "run_configuration([ PosixPath('/home/andrei/work/pit30m/out/size_analysis/f81c4def-1e47-4b83-cff8-3a8d2f9e5538/hdcam_10_port_front_roof_wide/0013469.webp'),\n",
      "  PosixPath('/home/andrei/work/pit30m/out/size_analysis/4644d0d4-c4c9-4dad-dbaf-b66c4932178c/hdcam_12_middle_front_roof_wide/0003797.webp'),\n",
      "  PosixPath('/home/andrei/work/pit30m/out/size_analysis/46d5d171-8471-441a-e67e-3d434949f8ea/hdcam_12_middle_front_roof_narrow_right/0022236.webp'),\n",
      "  PosixPath('/home/andrei/work/pit30m/out/size_analysis/9dd6c8d1-1461-459c-e2b8-92682ab1807e/hdcam_08_port_rear_roof_wide/0010315.webp'),\n",
      "  PosixPath('/home/andrei/work/pit30m/out/size_analysis/4644d0d4-c4c9-4dad-dbaf-b66c4932178c/hdcam_12_middle_front_roof_wide/0000167...., \n",
      "'webp', 70, 6)\n"
     ]
    },
    {
     "name": "stderr",
     "output_type": "stream",
     "text": [
      "100%|██████████| 2500/2500 [1:07:02<00:00,  1.61s/it, webp q=65 m=4]\n",
      "  8%|▊         | 212/2500 [05:32<59:52,  1.57s/it, webp q=70 m=3]"
     ]
    },
    {
     "name": "stdout",
     "output_type": "stream",
     "text": [
      "____________________________________________run_configuration - 4022.7s, 67.0min\n",
      "________________________________________________________________________________\n",
      "[Memory] Calling __main__--tmp-ipykernel-3732551948.run_configuration...\n",
      "run_configuration([ PosixPath('/home/andrei/work/pit30m/out/size_analysis/f81c4def-1e47-4b83-cff8-3a8d2f9e5538/hdcam_10_port_front_roof_wide/0013469.webp'),\n",
      "  PosixPath('/home/andrei/work/pit30m/out/size_analysis/4644d0d4-c4c9-4dad-dbaf-b66c4932178c/hdcam_12_middle_front_roof_wide/0003797.webp'),\n",
      "  PosixPath('/home/andrei/work/pit30m/out/size_analysis/46d5d171-8471-441a-e67e-3d434949f8ea/hdcam_12_middle_front_roof_narrow_right/0022236.webp'),\n",
      "  PosixPath('/home/andrei/work/pit30m/out/size_analysis/9dd6c8d1-1461-459c-e2b8-92682ab1807e/hdcam_08_port_rear_roof_wide/0010315.webp'),\n",
      "  PosixPath('/home/andrei/work/pit30m/out/size_analysis/4644d0d4-c4c9-4dad-dbaf-b66c4932178c/hdcam_12_middle_front_roof_wide/0000167...., \n",
      "'webp', 75, 0)\n"
     ]
    },
    {
     "name": "stderr",
     "output_type": "stream",
     "text": [
      "100%|██████████| 2500/2500 [1:11:04<00:00,  1.71s/it, webp q=65 m=6]\n",
      "  0%|          | 0/2500 [00:00<?, ?it/s, webp q=75 m=1] q=70 m=2]"
     ]
    },
    {
     "name": "stdout",
     "output_type": "stream",
     "text": [
      "____________________________________________run_configuration - 4264.6s, 71.1min\n",
      "________________________________________________________________________________\n",
      "[Memory] Calling __main__--tmp-ipykernel-3732551948.run_configuration...\n",
      "run_configuration([ PosixPath('/home/andrei/work/pit30m/out/size_analysis/f81c4def-1e47-4b83-cff8-3a8d2f9e5538/hdcam_10_port_front_roof_wide/0013469.webp'),\n",
      "  PosixPath('/home/andrei/work/pit30m/out/size_analysis/4644d0d4-c4c9-4dad-dbaf-b66c4932178c/hdcam_12_middle_front_roof_wide/0003797.webp'),\n",
      "  PosixPath('/home/andrei/work/pit30m/out/size_analysis/46d5d171-8471-441a-e67e-3d434949f8ea/hdcam_12_middle_front_roof_narrow_right/0022236.webp'),\n",
      "  PosixPath('/home/andrei/work/pit30m/out/size_analysis/9dd6c8d1-1461-459c-e2b8-92682ab1807e/hdcam_08_port_rear_roof_wide/0010315.webp'),\n",
      "  PosixPath('/home/andrei/work/pit30m/out/size_analysis/4644d0d4-c4c9-4dad-dbaf-b66c4932178c/hdcam_12_middle_front_roof_wide/0000167...., \n",
      "'webp', 75, 1)\n"
     ]
    },
    {
     "name": "stderr",
     "output_type": "stream",
     "text": [
      "100%|██████████| 2500/2500 [1:00:15<00:00,  1.45s/it, webp q=70 m=1]\n",
      " 78%|███████▊  | 1960/2500 [48:42<13:04,  1.45s/it, webp q=75 m=1]"
     ]
    },
    {
     "name": "stdout",
     "output_type": "stream",
     "text": [
      "____________________________________________run_configuration - 3615.4s, 60.3min\n",
      "________________________________________________________________________________\n",
      "[Memory] Calling __main__--tmp-ipykernel-3732551948.run_configuration...\n",
      "run_configuration([ PosixPath('/home/andrei/work/pit30m/out/size_analysis/f81c4def-1e47-4b83-cff8-3a8d2f9e5538/hdcam_10_port_front_roof_wide/0013469.webp'),\n",
      "  PosixPath('/home/andrei/work/pit30m/out/size_analysis/4644d0d4-c4c9-4dad-dbaf-b66c4932178c/hdcam_12_middle_front_roof_wide/0003797.webp'),\n",
      "  PosixPath('/home/andrei/work/pit30m/out/size_analysis/46d5d171-8471-441a-e67e-3d434949f8ea/hdcam_12_middle_front_roof_narrow_right/0022236.webp'),\n",
      "  PosixPath('/home/andrei/work/pit30m/out/size_analysis/9dd6c8d1-1461-459c-e2b8-92682ab1807e/hdcam_08_port_rear_roof_wide/0010315.webp'),\n",
      "  PosixPath('/home/andrei/work/pit30m/out/size_analysis/4644d0d4-c4c9-4dad-dbaf-b66c4932178c/hdcam_12_middle_front_roof_wide/0000167...., \n",
      "'webp', 75, 2)\n"
     ]
    },
    {
     "name": "stderr",
     "output_type": "stream",
     "text": [
      "100%|██████████| 2500/2500 [1:00:28<00:00,  1.45s/it, webp q=70 m=2]\n",
      "  0%|          | 0/2500 [00:00<?, ?it/s, webp q=75 m=3]p q=70 m=6]"
     ]
    },
    {
     "name": "stdout",
     "output_type": "stream",
     "text": [
      "____________________________________________run_configuration - 3629.2s, 60.5min\n",
      "________________________________________________________________________________\n",
      "[Memory] Calling __main__--tmp-ipykernel-3732551948.run_configuration...\n",
      "run_configuration([ PosixPath('/home/andrei/work/pit30m/out/size_analysis/f81c4def-1e47-4b83-cff8-3a8d2f9e5538/hdcam_10_port_front_roof_wide/0013469.webp'),\n",
      "  PosixPath('/home/andrei/work/pit30m/out/size_analysis/4644d0d4-c4c9-4dad-dbaf-b66c4932178c/hdcam_12_middle_front_roof_wide/0003797.webp'),\n",
      "  PosixPath('/home/andrei/work/pit30m/out/size_analysis/46d5d171-8471-441a-e67e-3d434949f8ea/hdcam_12_middle_front_roof_narrow_right/0022236.webp'),\n",
      "  PosixPath('/home/andrei/work/pit30m/out/size_analysis/9dd6c8d1-1461-459c-e2b8-92682ab1807e/hdcam_08_port_rear_roof_wide/0010315.webp'),\n",
      "  PosixPath('/home/andrei/work/pit30m/out/size_analysis/4644d0d4-c4c9-4dad-dbaf-b66c4932178c/hdcam_12_middle_front_roof_wide/0000167...., \n",
      "'webp', 75, 3)\n"
     ]
    },
    {
     "name": "stderr",
     "output_type": "stream",
     "text": [
      "100%|██████████| 2500/2500 [1:04:26<00:00,  1.55s/it, webp q=70 m=4]\n"
     ]
    },
    {
     "name": "stdout",
     "output_type": "stream",
     "text": [
      "____________________________________________run_configuration - 3866.6s, 64.4min\n",
      "________________________________________________________________________________\n",
      "[Memory] Calling __main__--tmp-ipykernel-3732551948.run_configuration...\n",
      "run_configuration([ PosixPath('/home/andrei/work/pit30m/out/size_analysis/f81c4def-1e47-4b83-cff8-3a8d2f9e5538/hdcam_10_port_front_roof_wide/0013469.webp'),\n",
      "  PosixPath('/home/andrei/work/pit30m/out/size_analysis/4644d0d4-c4c9-4dad-dbaf-b66c4932178c/hdcam_12_middle_front_roof_wide/0003797.webp'),\n",
      "  PosixPath('/home/andrei/work/pit30m/out/size_analysis/46d5d171-8471-441a-e67e-3d434949f8ea/hdcam_12_middle_front_roof_narrow_right/0022236.webp'),\n",
      "  PosixPath('/home/andrei/work/pit30m/out/size_analysis/9dd6c8d1-1461-459c-e2b8-92682ab1807e/hdcam_08_port_rear_roof_wide/0010315.webp'),\n",
      "  PosixPath('/home/andrei/work/pit30m/out/size_analysis/4644d0d4-c4c9-4dad-dbaf-b66c4932178c/hdcam_12_middle_front_roof_wide/0000167...., \n",
      "'webp', 75, 4)\n"
     ]
    },
    {
     "name": "stderr",
     "output_type": "stream",
     "text": [
      "100%|██████████| 2500/2500 [1:06:18<00:00,  1.59s/it, webp q=70 m=3]\n",
      "  0%|          | 0/2500 [00:00<?, ?it/s, webp q=75 m=5]p q=75 m=1]0]"
     ]
    },
    {
     "name": "stdout",
     "output_type": "stream",
     "text": [
      "____________________________________________run_configuration - 3978.7s, 66.3min\n",
      "________________________________________________________________________________\n",
      "[Memory] Calling __main__--tmp-ipykernel-3732551948.run_configuration...\n",
      "run_configuration([ PosixPath('/home/andrei/work/pit30m/out/size_analysis/f81c4def-1e47-4b83-cff8-3a8d2f9e5538/hdcam_10_port_front_roof_wide/0013469.webp'),\n",
      "  PosixPath('/home/andrei/work/pit30m/out/size_analysis/4644d0d4-c4c9-4dad-dbaf-b66c4932178c/hdcam_12_middle_front_roof_wide/0003797.webp'),\n",
      "  PosixPath('/home/andrei/work/pit30m/out/size_analysis/46d5d171-8471-441a-e67e-3d434949f8ea/hdcam_12_middle_front_roof_narrow_right/0022236.webp'),\n",
      "  PosixPath('/home/andrei/work/pit30m/out/size_analysis/9dd6c8d1-1461-459c-e2b8-92682ab1807e/hdcam_08_port_rear_roof_wide/0010315.webp'),\n",
      "  PosixPath('/home/andrei/work/pit30m/out/size_analysis/4644d0d4-c4c9-4dad-dbaf-b66c4932178c/hdcam_12_middle_front_roof_wide/0000167...., \n",
      "'webp', 75, 5)\n"
     ]
    },
    {
     "name": "stderr",
     "output_type": "stream",
     "text": [
      "100%|██████████| 2500/2500 [1:02:29<00:00,  1.50s/it, webp q=75 m=0]\n",
      "  0%|          | 0/2500 [00:00<?, ?it/s, webp q=75 m=6]p q=75 m=5]"
     ]
    },
    {
     "name": "stdout",
     "output_type": "stream",
     "text": [
      "____________________________________________run_configuration - 3749.5s, 62.5min\n",
      "________________________________________________________________________________\n",
      "[Memory] Calling __main__--tmp-ipykernel-3732551948.run_configuration...\n",
      "run_configuration([ PosixPath('/home/andrei/work/pit30m/out/size_analysis/f81c4def-1e47-4b83-cff8-3a8d2f9e5538/hdcam_10_port_front_roof_wide/0013469.webp'),\n",
      "  PosixPath('/home/andrei/work/pit30m/out/size_analysis/4644d0d4-c4c9-4dad-dbaf-b66c4932178c/hdcam_12_middle_front_roof_wide/0003797.webp'),\n",
      "  PosixPath('/home/andrei/work/pit30m/out/size_analysis/46d5d171-8471-441a-e67e-3d434949f8ea/hdcam_12_middle_front_roof_narrow_right/0022236.webp'),\n",
      "  PosixPath('/home/andrei/work/pit30m/out/size_analysis/9dd6c8d1-1461-459c-e2b8-92682ab1807e/hdcam_08_port_rear_roof_wide/0010315.webp'),\n",
      "  PosixPath('/home/andrei/work/pit30m/out/size_analysis/4644d0d4-c4c9-4dad-dbaf-b66c4932178c/hdcam_12_middle_front_roof_wide/0000167...., \n",
      "'webp', 75, 6)\n"
     ]
    },
    {
     "name": "stderr",
     "output_type": "stream",
     "text": [
      "100%|██████████| 2500/2500 [1:05:31<00:00,  1.57s/it, webp q=70 m=5]\n"
     ]
    },
    {
     "name": "stdout",
     "output_type": "stream",
     "text": [
      "____________________________________________run_configuration - 3931.8s, 65.5min\n",
      "________________________________________________________________________________\n",
      "[Memory] Calling __main__--tmp-ipykernel-3732551948.run_configuration...\n",
      "run_configuration([ PosixPath('/home/andrei/work/pit30m/out/size_analysis/f81c4def-1e47-4b83-cff8-3a8d2f9e5538/hdcam_10_port_front_roof_wide/0013469.webp'),\n",
      "  PosixPath('/home/andrei/work/pit30m/out/size_analysis/4644d0d4-c4c9-4dad-dbaf-b66c4932178c/hdcam_12_middle_front_roof_wide/0003797.webp'),\n",
      "  PosixPath('/home/andrei/work/pit30m/out/size_analysis/46d5d171-8471-441a-e67e-3d434949f8ea/hdcam_12_middle_front_roof_narrow_right/0022236.webp'),\n",
      "  PosixPath('/home/andrei/work/pit30m/out/size_analysis/9dd6c8d1-1461-459c-e2b8-92682ab1807e/hdcam_08_port_rear_roof_wide/0010315.webp'),\n",
      "  PosixPath('/home/andrei/work/pit30m/out/size_analysis/4644d0d4-c4c9-4dad-dbaf-b66c4932178c/hdcam_12_middle_front_roof_wide/0000167...., \n",
      "'webp', 80, 0)\n"
     ]
    },
    {
     "name": "stderr",
     "output_type": "stream",
     "text": [
      "100%|██████████| 2500/2500 [1:08:13<00:00,  1.64s/it, webp q=70 m=6]\n",
      "  5%|▍         | 118/2500 [03:21<1:08:16,  1.72s/it, webp q=75 m=6]]"
     ]
    },
    {
     "name": "stdout",
     "output_type": "stream",
     "text": [
      "____________________________________________run_configuration - 4094.3s, 68.2min\n",
      "________________________________________________________________________________\n",
      "[Memory] Calling __main__--tmp-ipykernel-3732551948.run_configuration...\n",
      "run_configuration([ PosixPath('/home/andrei/work/pit30m/out/size_analysis/f81c4def-1e47-4b83-cff8-3a8d2f9e5538/hdcam_10_port_front_roof_wide/0013469.webp'),\n",
      "  PosixPath('/home/andrei/work/pit30m/out/size_analysis/4644d0d4-c4c9-4dad-dbaf-b66c4932178c/hdcam_12_middle_front_roof_wide/0003797.webp'),\n",
      "  PosixPath('/home/andrei/work/pit30m/out/size_analysis/46d5d171-8471-441a-e67e-3d434949f8ea/hdcam_12_middle_front_roof_narrow_right/0022236.webp'),\n",
      "  PosixPath('/home/andrei/work/pit30m/out/size_analysis/9dd6c8d1-1461-459c-e2b8-92682ab1807e/hdcam_08_port_rear_roof_wide/0010315.webp'),\n",
      "  PosixPath('/home/andrei/work/pit30m/out/size_analysis/4644d0d4-c4c9-4dad-dbaf-b66c4932178c/hdcam_12_middle_front_roof_wide/0000167...., \n",
      "'webp', 80, 1)\n"
     ]
    },
    {
     "name": "stderr",
     "output_type": "stream",
     "text": [
      "100%|██████████| 2500/2500 [1:01:36<00:00,  1.48s/it, webp q=75 m=1]\n",
      "  5%|▌         | 125/2500 [02:58<56:12,  1.42s/it, webp q=80 m=0]5]"
     ]
    },
    {
     "name": "stdout",
     "output_type": "stream",
     "text": [
      "____________________________________________run_configuration - 3696.9s, 61.6min\n",
      "________________________________________________________________________________\n",
      "[Memory] Calling __main__--tmp-ipykernel-3732551948.run_configuration...\n",
      "run_configuration([ PosixPath('/home/andrei/work/pit30m/out/size_analysis/f81c4def-1e47-4b83-cff8-3a8d2f9e5538/hdcam_10_port_front_roof_wide/0013469.webp'),\n",
      "  PosixPath('/home/andrei/work/pit30m/out/size_analysis/4644d0d4-c4c9-4dad-dbaf-b66c4932178c/hdcam_12_middle_front_roof_wide/0003797.webp'),\n",
      "  PosixPath('/home/andrei/work/pit30m/out/size_analysis/46d5d171-8471-441a-e67e-3d434949f8ea/hdcam_12_middle_front_roof_narrow_right/0022236.webp'),\n",
      "  PosixPath('/home/andrei/work/pit30m/out/size_analysis/9dd6c8d1-1461-459c-e2b8-92682ab1807e/hdcam_08_port_rear_roof_wide/0010315.webp'),\n",
      "  PosixPath('/home/andrei/work/pit30m/out/size_analysis/4644d0d4-c4c9-4dad-dbaf-b66c4932178c/hdcam_12_middle_front_roof_wide/0000167...., \n",
      "'webp', 80, 2)\n"
     ]
    },
    {
     "name": "stderr",
     "output_type": "stream",
     "text": [
      "100%|██████████| 2500/2500 [1:01:13<00:00,  1.47s/it, webp q=75 m=2]\n",
      "  0%|          | 0/2500 [00:00<?, ?it/s, webp q=80 m=3]p q=80 m=1]3]"
     ]
    },
    {
     "name": "stdout",
     "output_type": "stream",
     "text": [
      "____________________________________________run_configuration - 3673.4s, 61.2min\n",
      "________________________________________________________________________________\n",
      "[Memory] Calling __main__--tmp-ipykernel-3732551948.run_configuration...\n",
      "run_configuration([ PosixPath('/home/andrei/work/pit30m/out/size_analysis/f81c4def-1e47-4b83-cff8-3a8d2f9e5538/hdcam_10_port_front_roof_wide/0013469.webp'),\n",
      "  PosixPath('/home/andrei/work/pit30m/out/size_analysis/4644d0d4-c4c9-4dad-dbaf-b66c4932178c/hdcam_12_middle_front_roof_wide/0003797.webp'),\n",
      "  PosixPath('/home/andrei/work/pit30m/out/size_analysis/46d5d171-8471-441a-e67e-3d434949f8ea/hdcam_12_middle_front_roof_narrow_right/0022236.webp'),\n",
      "  PosixPath('/home/andrei/work/pit30m/out/size_analysis/9dd6c8d1-1461-459c-e2b8-92682ab1807e/hdcam_08_port_rear_roof_wide/0010315.webp'),\n",
      "  PosixPath('/home/andrei/work/pit30m/out/size_analysis/4644d0d4-c4c9-4dad-dbaf-b66c4932178c/hdcam_12_middle_front_roof_wide/0000167...., \n",
      "'webp', 80, 3)\n"
     ]
    },
    {
     "name": "stderr",
     "output_type": "stream",
     "text": [
      "100%|██████████| 2500/2500 [1:04:10<00:00,  1.54s/it, webp q=75 m=3]\n",
      " 91%|█████████ | 2268/2500 [58:35<06:06,  1.58s/it, webp q=75 m=4]"
     ]
    },
    {
     "name": "stdout",
     "output_type": "stream",
     "text": [
      "____________________________________________run_configuration - 3851.0s, 64.2min\n",
      "________________________________________________________________________________\n",
      "[Memory] Calling __main__--tmp-ipykernel-3732551948.run_configuration...\n",
      "run_configuration([ PosixPath('/home/andrei/work/pit30m/out/size_analysis/f81c4def-1e47-4b83-cff8-3a8d2f9e5538/hdcam_10_port_front_roof_wide/0013469.webp'),\n",
      "  PosixPath('/home/andrei/work/pit30m/out/size_analysis/4644d0d4-c4c9-4dad-dbaf-b66c4932178c/hdcam_12_middle_front_roof_wide/0003797.webp'),\n",
      "  PosixPath('/home/andrei/work/pit30m/out/size_analysis/46d5d171-8471-441a-e67e-3d434949f8ea/hdcam_12_middle_front_roof_narrow_right/0022236.webp'),\n",
      "  PosixPath('/home/andrei/work/pit30m/out/size_analysis/9dd6c8d1-1461-459c-e2b8-92682ab1807e/hdcam_08_port_rear_roof_wide/0010315.webp'),\n",
      "  PosixPath('/home/andrei/work/pit30m/out/size_analysis/4644d0d4-c4c9-4dad-dbaf-b66c4932178c/hdcam_12_middle_front_roof_wide/0000167...., \n",
      "'webp', 80, 4)\n"
     ]
    },
    {
     "name": "stderr",
     "output_type": "stream",
     "text": [
      "100%|██████████| 2500/2500 [1:00:34<00:00,  1.45s/it, webp q=80 m=0]\n",
      " 96%|█████████▌| 2403/2500 [57:48<02:17,  1.41s/it, webp q=80 m=1]5]"
     ]
    },
    {
     "name": "stdout",
     "output_type": "stream",
     "text": [
      "____________________________________________run_configuration - 3634.8s, 60.6min\n",
      "________________________________________________________________________________\n",
      "[Memory] Calling __main__--tmp-ipykernel-3732551948.run_configuration...\n",
      "run_configuration([ PosixPath('/home/andrei/work/pit30m/out/size_analysis/f81c4def-1e47-4b83-cff8-3a8d2f9e5538/hdcam_10_port_front_roof_wide/0013469.webp'),\n",
      "  PosixPath('/home/andrei/work/pit30m/out/size_analysis/4644d0d4-c4c9-4dad-dbaf-b66c4932178c/hdcam_12_middle_front_roof_wide/0003797.webp'),\n",
      "  PosixPath('/home/andrei/work/pit30m/out/size_analysis/46d5d171-8471-441a-e67e-3d434949f8ea/hdcam_12_middle_front_roof_narrow_right/0022236.webp'),\n",
      "  PosixPath('/home/andrei/work/pit30m/out/size_analysis/9dd6c8d1-1461-459c-e2b8-92682ab1807e/hdcam_08_port_rear_roof_wide/0010315.webp'),\n",
      "  PosixPath('/home/andrei/work/pit30m/out/size_analysis/4644d0d4-c4c9-4dad-dbaf-b66c4932178c/hdcam_12_middle_front_roof_wide/0000167...., \n",
      "'webp', 80, 5)\n"
     ]
    },
    {
     "name": "stderr",
     "output_type": "stream",
     "text": [
      "100%|██████████| 2500/2500 [1:04:32<00:00,  1.55s/it, webp q=75 m=4]\n",
      "  0%|          | 0/2500 [00:00<?, ?it/s, webp q=80 m=6]p q=80 m=5]6]"
     ]
    },
    {
     "name": "stdout",
     "output_type": "stream",
     "text": [
      "____________________________________________run_configuration - 3872.8s, 64.5min\n",
      "________________________________________________________________________________\n",
      "[Memory] Calling __main__--tmp-ipykernel-3732551948.run_configuration...\n",
      "run_configuration([ PosixPath('/home/andrei/work/pit30m/out/size_analysis/f81c4def-1e47-4b83-cff8-3a8d2f9e5538/hdcam_10_port_front_roof_wide/0013469.webp'),\n",
      "  PosixPath('/home/andrei/work/pit30m/out/size_analysis/4644d0d4-c4c9-4dad-dbaf-b66c4932178c/hdcam_12_middle_front_roof_wide/0003797.webp'),\n",
      "  PosixPath('/home/andrei/work/pit30m/out/size_analysis/46d5d171-8471-441a-e67e-3d434949f8ea/hdcam_12_middle_front_roof_narrow_right/0022236.webp'),\n",
      "  PosixPath('/home/andrei/work/pit30m/out/size_analysis/9dd6c8d1-1461-459c-e2b8-92682ab1807e/hdcam_08_port_rear_roof_wide/0010315.webp'),\n",
      "  PosixPath('/home/andrei/work/pit30m/out/size_analysis/4644d0d4-c4c9-4dad-dbaf-b66c4932178c/hdcam_12_middle_front_roof_wide/0000167...., \n",
      "'webp', 80, 6)\n"
     ]
    },
    {
     "name": "stderr",
     "output_type": "stream",
     "text": [
      "100%|██████████| 2500/2500 [1:00:06<00:00,  1.44s/it, webp q=80 m=1]\n",
      "  0%|          | 0/2500 [00:00<?, ?it/s, webp q=85 m=0] q=80 m=3]]5]"
     ]
    },
    {
     "name": "stdout",
     "output_type": "stream",
     "text": [
      "____________________________________________run_configuration - 3606.6s, 60.1min\n",
      "________________________________________________________________________________\n",
      "[Memory] Calling __main__--tmp-ipykernel-3732551948.run_configuration...\n",
      "run_configuration([ PosixPath('/home/andrei/work/pit30m/out/size_analysis/f81c4def-1e47-4b83-cff8-3a8d2f9e5538/hdcam_10_port_front_roof_wide/0013469.webp'),\n",
      "  PosixPath('/home/andrei/work/pit30m/out/size_analysis/4644d0d4-c4c9-4dad-dbaf-b66c4932178c/hdcam_12_middle_front_roof_wide/0003797.webp'),\n",
      "  PosixPath('/home/andrei/work/pit30m/out/size_analysis/46d5d171-8471-441a-e67e-3d434949f8ea/hdcam_12_middle_front_roof_narrow_right/0022236.webp'),\n",
      "  PosixPath('/home/andrei/work/pit30m/out/size_analysis/9dd6c8d1-1461-459c-e2b8-92682ab1807e/hdcam_08_port_rear_roof_wide/0010315.webp'),\n",
      "  PosixPath('/home/andrei/work/pit30m/out/size_analysis/4644d0d4-c4c9-4dad-dbaf-b66c4932178c/hdcam_12_middle_front_roof_wide/0000167...., \n",
      "'webp', 85, 0)\n"
     ]
    },
    {
     "name": "stderr",
     "output_type": "stream",
     "text": [
      "100%|██████████| 2500/2500 [1:01:09<00:00,  1.47s/it, webp q=80 m=2]\n",
      "  0%|          | 0/2500 [00:00<?, ?it/s, webp q=85 m=1] q=80 m=5]=6]"
     ]
    },
    {
     "name": "stdout",
     "output_type": "stream",
     "text": [
      "____________________________________________run_configuration - 3669.8s, 61.2min\n",
      "________________________________________________________________________________\n",
      "[Memory] Calling __main__--tmp-ipykernel-3732551948.run_configuration...\n",
      "run_configuration([ PosixPath('/home/andrei/work/pit30m/out/size_analysis/f81c4def-1e47-4b83-cff8-3a8d2f9e5538/hdcam_10_port_front_roof_wide/0013469.webp'),\n",
      "  PosixPath('/home/andrei/work/pit30m/out/size_analysis/4644d0d4-c4c9-4dad-dbaf-b66c4932178c/hdcam_12_middle_front_roof_wide/0003797.webp'),\n",
      "  PosixPath('/home/andrei/work/pit30m/out/size_analysis/46d5d171-8471-441a-e67e-3d434949f8ea/hdcam_12_middle_front_roof_narrow_right/0022236.webp'),\n",
      "  PosixPath('/home/andrei/work/pit30m/out/size_analysis/9dd6c8d1-1461-459c-e2b8-92682ab1807e/hdcam_08_port_rear_roof_wide/0010315.webp'),\n",
      "  PosixPath('/home/andrei/work/pit30m/out/size_analysis/4644d0d4-c4c9-4dad-dbaf-b66c4932178c/hdcam_12_middle_front_roof_wide/0000167...., \n",
      "'webp', 85, 1)\n"
     ]
    },
    {
     "name": "stderr",
     "output_type": "stream",
     "text": [
      "100%|██████████| 2500/2500 [1:06:39<00:00,  1.60s/it, webp q=75 m=5]\n",
      " 20%|██        | 510/2500 [13:04<49:44,  1.50s/it, webp q=80 m=3]=6]"
     ]
    },
    {
     "name": "stdout",
     "output_type": "stream",
     "text": [
      "____________________________________________run_configuration - 3999.4s, 66.7min\n",
      "________________________________________________________________________________\n",
      "[Memory] Calling __main__--tmp-ipykernel-3732551948.run_configuration...\n",
      "run_configuration([ PosixPath('/home/andrei/work/pit30m/out/size_analysis/f81c4def-1e47-4b83-cff8-3a8d2f9e5538/hdcam_10_port_front_roof_wide/0013469.webp'),\n",
      "  PosixPath('/home/andrei/work/pit30m/out/size_analysis/4644d0d4-c4c9-4dad-dbaf-b66c4932178c/hdcam_12_middle_front_roof_wide/0003797.webp'),\n",
      "  PosixPath('/home/andrei/work/pit30m/out/size_analysis/46d5d171-8471-441a-e67e-3d434949f8ea/hdcam_12_middle_front_roof_narrow_right/0022236.webp'),\n",
      "  PosixPath('/home/andrei/work/pit30m/out/size_analysis/9dd6c8d1-1461-459c-e2b8-92682ab1807e/hdcam_08_port_rear_roof_wide/0010315.webp'),\n",
      "  PosixPath('/home/andrei/work/pit30m/out/size_analysis/4644d0d4-c4c9-4dad-dbaf-b66c4932178c/hdcam_12_middle_front_roof_wide/0000167...., \n",
      "'webp', 85, 2)\n"
     ]
    },
    {
     "name": "stderr",
     "output_type": "stream",
     "text": [
      "100%|██████████| 2500/2500 [1:11:42<00:00,  1.72s/it, webp q=75 m=6]\n",
      " 16%|█▋        | 409/2500 [10:33<53:47,  1.54s/it, webp q=80 m=5]"
     ]
    },
    {
     "name": "stdout",
     "output_type": "stream",
     "text": [
      "____________________________________________run_configuration - 4302.7s, 71.7min\n",
      "________________________________________________________________________________\n",
      "[Memory] Calling __main__--tmp-ipykernel-3732551948.run_configuration...\n",
      "run_configuration([ PosixPath('/home/andrei/work/pit30m/out/size_analysis/f81c4def-1e47-4b83-cff8-3a8d2f9e5538/hdcam_10_port_front_roof_wide/0013469.webp'),\n",
      "  PosixPath('/home/andrei/work/pit30m/out/size_analysis/4644d0d4-c4c9-4dad-dbaf-b66c4932178c/hdcam_12_middle_front_roof_wide/0003797.webp'),\n",
      "  PosixPath('/home/andrei/work/pit30m/out/size_analysis/46d5d171-8471-441a-e67e-3d434949f8ea/hdcam_12_middle_front_roof_narrow_right/0022236.webp'),\n",
      "  PosixPath('/home/andrei/work/pit30m/out/size_analysis/9dd6c8d1-1461-459c-e2b8-92682ab1807e/hdcam_08_port_rear_roof_wide/0010315.webp'),\n",
      "  PosixPath('/home/andrei/work/pit30m/out/size_analysis/4644d0d4-c4c9-4dad-dbaf-b66c4932178c/hdcam_12_middle_front_roof_wide/0000167...., \n",
      "'webp', 85, 3)\n"
     ]
    },
    {
     "name": "stderr",
     "output_type": "stream",
     "text": [
      "100%|██████████| 2500/2500 [1:03:58<00:00,  1.54s/it, webp q=80 m=3]\n",
      "  0%|          | 0/2500 [00:00<?, ?it/s, webp q=85 m=4]p q=80 m=6]"
     ]
    },
    {
     "name": "stdout",
     "output_type": "stream",
     "text": [
      "____________________________________________run_configuration - 3838.9s, 64.0min\n",
      "________________________________________________________________________________\n",
      "[Memory] Calling __main__--tmp-ipykernel-3732551948.run_configuration...\n",
      "run_configuration([ PosixPath('/home/andrei/work/pit30m/out/size_analysis/f81c4def-1e47-4b83-cff8-3a8d2f9e5538/hdcam_10_port_front_roof_wide/0013469.webp'),\n",
      "  PosixPath('/home/andrei/work/pit30m/out/size_analysis/4644d0d4-c4c9-4dad-dbaf-b66c4932178c/hdcam_12_middle_front_roof_wide/0003797.webp'),\n",
      "  PosixPath('/home/andrei/work/pit30m/out/size_analysis/46d5d171-8471-441a-e67e-3d434949f8ea/hdcam_12_middle_front_roof_narrow_right/0022236.webp'),\n",
      "  PosixPath('/home/andrei/work/pit30m/out/size_analysis/9dd6c8d1-1461-459c-e2b8-92682ab1807e/hdcam_08_port_rear_roof_wide/0010315.webp'),\n",
      "  PosixPath('/home/andrei/work/pit30m/out/size_analysis/4644d0d4-c4c9-4dad-dbaf-b66c4932178c/hdcam_12_middle_front_roof_wide/0000167...., \n",
      "'webp', 85, 4)\n"
     ]
    },
    {
     "name": "stderr",
     "output_type": "stream",
     "text": [
      "100%|██████████| 2500/2500 [1:03:48<00:00,  1.53s/it, webp q=80 m=4]\n",
      "  0%|          | 0/2500 [00:00<?, ?it/s, webp q=85 m=5]bp q=85 m=4]"
     ]
    },
    {
     "name": "stdout",
     "output_type": "stream",
     "text": [
      "____________________________________________run_configuration - 3828.9s, 63.8min\n",
      "________________________________________________________________________________\n",
      "[Memory] Calling __main__--tmp-ipykernel-3732551948.run_configuration...\n",
      "run_configuration([ PosixPath('/home/andrei/work/pit30m/out/size_analysis/f81c4def-1e47-4b83-cff8-3a8d2f9e5538/hdcam_10_port_front_roof_wide/0013469.webp'),\n",
      "  PosixPath('/home/andrei/work/pit30m/out/size_analysis/4644d0d4-c4c9-4dad-dbaf-b66c4932178c/hdcam_12_middle_front_roof_wide/0003797.webp'),\n",
      "  PosixPath('/home/andrei/work/pit30m/out/size_analysis/46d5d171-8471-441a-e67e-3d434949f8ea/hdcam_12_middle_front_roof_narrow_right/0022236.webp'),\n",
      "  PosixPath('/home/andrei/work/pit30m/out/size_analysis/9dd6c8d1-1461-459c-e2b8-92682ab1807e/hdcam_08_port_rear_roof_wide/0010315.webp'),\n",
      "  PosixPath('/home/andrei/work/pit30m/out/size_analysis/4644d0d4-c4c9-4dad-dbaf-b66c4932178c/hdcam_12_middle_front_roof_wide/0000167...., \n",
      "'webp', 85, 5)\n"
     ]
    },
    {
     "name": "stderr",
     "output_type": "stream",
     "text": [
      "100%|██████████| 2500/2500 [59:07<00:00,  1.42s/it, webp q=85 m=0]]]\n",
      "  0%|          | 0/2500 [00:00<?, ?it/s, webp q=85 m=6]ebp q=80 m=5]"
     ]
    },
    {
     "name": "stdout",
     "output_type": "stream",
     "text": [
      "____________________________________________run_configuration - 3548.3s, 59.1min\n",
      "________________________________________________________________________________\n",
      "[Memory] Calling __main__--tmp-ipykernel-3732551948.run_configuration...\n",
      "run_configuration([ PosixPath('/home/andrei/work/pit30m/out/size_analysis/f81c4def-1e47-4b83-cff8-3a8d2f9e5538/hdcam_10_port_front_roof_wide/0013469.webp'),\n",
      "  PosixPath('/home/andrei/work/pit30m/out/size_analysis/4644d0d4-c4c9-4dad-dbaf-b66c4932178c/hdcam_12_middle_front_roof_wide/0003797.webp'),\n",
      "  PosixPath('/home/andrei/work/pit30m/out/size_analysis/46d5d171-8471-441a-e67e-3d434949f8ea/hdcam_12_middle_front_roof_narrow_right/0022236.webp'),\n",
      "  PosixPath('/home/andrei/work/pit30m/out/size_analysis/9dd6c8d1-1461-459c-e2b8-92682ab1807e/hdcam_08_port_rear_roof_wide/0010315.webp'),\n",
      "  PosixPath('/home/andrei/work/pit30m/out/size_analysis/4644d0d4-c4c9-4dad-dbaf-b66c4932178c/hdcam_12_middle_front_roof_wide/0000167...., \n",
      "'webp', 85, 6)\n"
     ]
    },
    {
     "name": "stderr",
     "output_type": "stream",
     "text": [
      "100%|██████████| 2500/2500 [59:38<00:00,  1.43s/it, webp q=85 m=1]6]\n",
      " 97%|█████████▋| 2421/2500 [1:03:12<02:01,  1.54s/it, webp q=80 m=5]"
     ]
    },
    {
     "name": "stdout",
     "output_type": "stream",
     "text": [
      "____________________________________________run_configuration - 3579.2s, 59.7min\n",
      "________________________________________________________________________________\n",
      "[Memory] Calling __main__--tmp-ipykernel-3732551948.run_configuration...\n",
      "run_configuration([ PosixPath('/home/andrei/work/pit30m/out/size_analysis/f81c4def-1e47-4b83-cff8-3a8d2f9e5538/hdcam_10_port_front_roof_wide/0013469.webp'),\n",
      "  PosixPath('/home/andrei/work/pit30m/out/size_analysis/4644d0d4-c4c9-4dad-dbaf-b66c4932178c/hdcam_12_middle_front_roof_wide/0003797.webp'),\n",
      "  PosixPath('/home/andrei/work/pit30m/out/size_analysis/46d5d171-8471-441a-e67e-3d434949f8ea/hdcam_12_middle_front_roof_narrow_right/0022236.webp'),\n",
      "  PosixPath('/home/andrei/work/pit30m/out/size_analysis/9dd6c8d1-1461-459c-e2b8-92682ab1807e/hdcam_08_port_rear_roof_wide/0010315.webp'),\n",
      "  PosixPath('/home/andrei/work/pit30m/out/size_analysis/4644d0d4-c4c9-4dad-dbaf-b66c4932178c/hdcam_12_middle_front_roof_wide/0000167...., \n",
      "'webp', 90, 0)\n"
     ]
    },
    {
     "name": "stderr",
     "output_type": "stream",
     "text": [
      "100%|██████████| 2500/2500 [1:05:13<00:00,  1.57s/it, webp q=80 m=5]\n",
      " 98%|█████████▊| 2462/2500 [1:01:27<00:55,  1.45s/it, webp q=85 m=2]"
     ]
    },
    {
     "name": "stdout",
     "output_type": "stream",
     "text": [
      "____________________________________________run_configuration - 3914.0s, 65.2min\n",
      "________________________________________________________________________________\n",
      "[Memory] Calling __main__--tmp-ipykernel-3732551948.run_configuration...\n",
      "run_configuration([ PosixPath('/home/andrei/work/pit30m/out/size_analysis/f81c4def-1e47-4b83-cff8-3a8d2f9e5538/hdcam_10_port_front_roof_wide/0013469.webp'),\n",
      "  PosixPath('/home/andrei/work/pit30m/out/size_analysis/4644d0d4-c4c9-4dad-dbaf-b66c4932178c/hdcam_12_middle_front_roof_wide/0003797.webp'),\n",
      "  PosixPath('/home/andrei/work/pit30m/out/size_analysis/46d5d171-8471-441a-e67e-3d434949f8ea/hdcam_12_middle_front_roof_narrow_right/0022236.webp'),\n",
      "  PosixPath('/home/andrei/work/pit30m/out/size_analysis/9dd6c8d1-1461-459c-e2b8-92682ab1807e/hdcam_08_port_rear_roof_wide/0010315.webp'),\n",
      "  PosixPath('/home/andrei/work/pit30m/out/size_analysis/4644d0d4-c4c9-4dad-dbaf-b66c4932178c/hdcam_12_middle_front_roof_wide/0000167...., \n",
      "'webp', 90, 1)\n"
     ]
    },
    {
     "name": "stderr",
     "output_type": "stream",
     "text": [
      "100%|██████████| 2500/2500 [1:02:22<00:00,  1.50s/it, webp q=85 m=2]\n",
      "  2%|▏         | 38/2500 [00:55<58:54,  1.44s/it, webp q=90 m=1]]"
     ]
    },
    {
     "name": "stdout",
     "output_type": "stream",
     "text": [
      "____________________________________________run_configuration - 3742.6s, 62.4min\n",
      "________________________________________________________________________________\n",
      "[Memory] Calling __main__--tmp-ipykernel-3732551948.run_configuration...\n",
      "run_configuration([ PosixPath('/home/andrei/work/pit30m/out/size_analysis/f81c4def-1e47-4b83-cff8-3a8d2f9e5538/hdcam_10_port_front_roof_wide/0013469.webp'),\n",
      "  PosixPath('/home/andrei/work/pit30m/out/size_analysis/4644d0d4-c4c9-4dad-dbaf-b66c4932178c/hdcam_12_middle_front_roof_wide/0003797.webp'),\n",
      "  PosixPath('/home/andrei/work/pit30m/out/size_analysis/46d5d171-8471-441a-e67e-3d434949f8ea/hdcam_12_middle_front_roof_narrow_right/0022236.webp'),\n",
      "  PosixPath('/home/andrei/work/pit30m/out/size_analysis/9dd6c8d1-1461-459c-e2b8-92682ab1807e/hdcam_08_port_rear_roof_wide/0010315.webp'),\n",
      "  PosixPath('/home/andrei/work/pit30m/out/size_analysis/4644d0d4-c4c9-4dad-dbaf-b66c4932178c/hdcam_12_middle_front_roof_wide/0000167...., \n",
      "'webp', 90, 2)\n"
     ]
    },
    {
     "name": "stderr",
     "output_type": "stream",
     "text": [
      "100%|██████████| 2500/2500 [1:09:51<00:00,  1.68s/it, webp q=80 m=6]\n",
      "  0%|          | 0/2500 [00:00<?, ?it/s, webp q=90 m=3] q=85 m=6]  ]"
     ]
    },
    {
     "name": "stdout",
     "output_type": "stream",
     "text": [
      "____________________________________________run_configuration - 4191.8s, 69.9min\n",
      "________________________________________________________________________________\n",
      "[Memory] Calling __main__--tmp-ipykernel-3732551948.run_configuration...\n",
      "run_configuration([ PosixPath('/home/andrei/work/pit30m/out/size_analysis/f81c4def-1e47-4b83-cff8-3a8d2f9e5538/hdcam_10_port_front_roof_wide/0013469.webp'),\n",
      "  PosixPath('/home/andrei/work/pit30m/out/size_analysis/4644d0d4-c4c9-4dad-dbaf-b66c4932178c/hdcam_12_middle_front_roof_wide/0003797.webp'),\n",
      "  PosixPath('/home/andrei/work/pit30m/out/size_analysis/46d5d171-8471-441a-e67e-3d434949f8ea/hdcam_12_middle_front_roof_narrow_right/0022236.webp'),\n",
      "  PosixPath('/home/andrei/work/pit30m/out/size_analysis/9dd6c8d1-1461-459c-e2b8-92682ab1807e/hdcam_08_port_rear_roof_wide/0010315.webp'),\n",
      "  PosixPath('/home/andrei/work/pit30m/out/size_analysis/4644d0d4-c4c9-4dad-dbaf-b66c4932178c/hdcam_12_middle_front_roof_wide/0000167...., \n",
      "'webp', 90, 3)\n"
     ]
    },
    {
     "name": "stderr",
     "output_type": "stream",
     "text": [
      "100%|██████████| 2500/2500 [1:05:46<00:00,  1.58s/it, webp q=85 m=3]\n",
      "  0%|          | 0/2500 [00:00<?, ?it/s, webp q=90 m=4] q=90 m=0]"
     ]
    },
    {
     "name": "stdout",
     "output_type": "stream",
     "text": [
      "____________________________________________run_configuration - 3946.9s, 65.8min\n",
      "________________________________________________________________________________\n",
      "[Memory] Calling __main__--tmp-ipykernel-3732551948.run_configuration...\n",
      "run_configuration([ PosixPath('/home/andrei/work/pit30m/out/size_analysis/f81c4def-1e47-4b83-cff8-3a8d2f9e5538/hdcam_10_port_front_roof_wide/0013469.webp'),\n",
      "  PosixPath('/home/andrei/work/pit30m/out/size_analysis/4644d0d4-c4c9-4dad-dbaf-b66c4932178c/hdcam_12_middle_front_roof_wide/0003797.webp'),\n",
      "  PosixPath('/home/andrei/work/pit30m/out/size_analysis/46d5d171-8471-441a-e67e-3d434949f8ea/hdcam_12_middle_front_roof_narrow_right/0022236.webp'),\n",
      "  PosixPath('/home/andrei/work/pit30m/out/size_analysis/9dd6c8d1-1461-459c-e2b8-92682ab1807e/hdcam_08_port_rear_roof_wide/0010315.webp'),\n",
      "  PosixPath('/home/andrei/work/pit30m/out/size_analysis/4644d0d4-c4c9-4dad-dbaf-b66c4932178c/hdcam_12_middle_front_roof_wide/0000167...., \n",
      "'webp', 90, 4)\n"
     ]
    },
    {
     "name": "stderr",
     "output_type": "stream",
     "text": [
      "100%|██████████| 2500/2500 [1:03:51<00:00,  1.53s/it, webp q=85 m=4]\n",
      "  0%|          | 0/2500 [00:00<?, ?it/s, webp q=90 m=5]p q=90 m=3]"
     ]
    },
    {
     "name": "stdout",
     "output_type": "stream",
     "text": [
      "____________________________________________run_configuration - 3831.4s, 63.9min\n",
      "________________________________________________________________________________\n",
      "[Memory] Calling __main__--tmp-ipykernel-3732551948.run_configuration...\n",
      "run_configuration([ PosixPath('/home/andrei/work/pit30m/out/size_analysis/f81c4def-1e47-4b83-cff8-3a8d2f9e5538/hdcam_10_port_front_roof_wide/0013469.webp'),\n",
      "  PosixPath('/home/andrei/work/pit30m/out/size_analysis/4644d0d4-c4c9-4dad-dbaf-b66c4932178c/hdcam_12_middle_front_roof_wide/0003797.webp'),\n",
      "  PosixPath('/home/andrei/work/pit30m/out/size_analysis/46d5d171-8471-441a-e67e-3d434949f8ea/hdcam_12_middle_front_roof_narrow_right/0022236.webp'),\n",
      "  PosixPath('/home/andrei/work/pit30m/out/size_analysis/9dd6c8d1-1461-459c-e2b8-92682ab1807e/hdcam_08_port_rear_roof_wide/0010315.webp'),\n",
      "  PosixPath('/home/andrei/work/pit30m/out/size_analysis/4644d0d4-c4c9-4dad-dbaf-b66c4932178c/hdcam_12_middle_front_roof_wide/0000167...., \n",
      "'webp', 90, 5)\n"
     ]
    },
    {
     "name": "stderr",
     "output_type": "stream",
     "text": [
      "100%|██████████| 2500/2500 [1:04:17<00:00,  1.54s/it, webp q=85 m=5]\n",
      "100%|██████████| 2500/2500 [59:40<00:00,  1.43s/it, webp q=90 m=0]\n",
      "  0%|          | 0/2500 [00:00<?, ?it/s, webp q=90 m=6]"
     ]
    },
    {
     "name": "stdout",
     "output_type": "stream",
     "text": [
      "____________________________________________run_configuration - 3858.2s, 64.3min\n",
      "________________________________________________________________________________\n",
      "[Memory] Calling __main__--tmp-ipykernel-3732551948.run_configuration...\n",
      "run_configuration([ PosixPath('/home/andrei/work/pit30m/out/size_analysis/f81c4def-1e47-4b83-cff8-3a8d2f9e5538/hdcam_10_port_front_roof_wide/0013469.webp'),\n",
      "  PosixPath('/home/andrei/work/pit30m/out/size_analysis/4644d0d4-c4c9-4dad-dbaf-b66c4932178c/hdcam_12_middle_front_roof_wide/0003797.webp'),\n",
      "  PosixPath('/home/andrei/work/pit30m/out/size_analysis/46d5d171-8471-441a-e67e-3d434949f8ea/hdcam_12_middle_front_roof_narrow_right/0022236.webp'),\n",
      "  PosixPath('/home/andrei/work/pit30m/out/size_analysis/9dd6c8d1-1461-459c-e2b8-92682ab1807e/hdcam_08_port_rear_roof_wide/0010315.webp'),\n",
      "  PosixPath('/home/andrei/work/pit30m/out/size_analysis/4644d0d4-c4c9-4dad-dbaf-b66c4932178c/hdcam_12_middle_front_roof_wide/0000167...., \n",
      "'webp', 90, 6)\n"
     ]
    },
    {
     "name": "stderr",
     "output_type": "stream",
     "text": [
      "\r",
      " 94%|█████████▍| 2348/2500 [57:39<03:41,  1.46s/it, webp q=90 m=1]\r",
      " 91%|█████████ | 2274/2500 [56:44<05:33,  1.48s/it, webp q=90 m=2]\r",
      "  0%|          | 0/2500 [00:00<?, ?it/s, webp q=95 m=0]"
     ]
    },
    {
     "name": "stdout",
     "output_type": "stream",
     "text": [
      "____________________________________________run_configuration - 3581.1s, 59.7min\n",
      "________________________________________________________________________________\n",
      "[Memory] Calling __main__--tmp-ipykernel-3732551948.run_configuration...\n",
      "run_configuration([ PosixPath('/home/andrei/work/pit30m/out/size_analysis/f81c4def-1e47-4b83-cff8-3a8d2f9e5538/hdcam_10_port_front_roof_wide/0013469.webp'),\n",
      "  PosixPath('/home/andrei/work/pit30m/out/size_analysis/4644d0d4-c4c9-4dad-dbaf-b66c4932178c/hdcam_12_middle_front_roof_wide/0003797.webp'),\n",
      "  PosixPath('/home/andrei/work/pit30m/out/size_analysis/46d5d171-8471-441a-e67e-3d434949f8ea/hdcam_12_middle_front_roof_narrow_right/0022236.webp'),\n",
      "  PosixPath('/home/andrei/work/pit30m/out/size_analysis/9dd6c8d1-1461-459c-e2b8-92682ab1807e/hdcam_08_port_rear_roof_wide/0010315.webp'),\n",
      "  PosixPath('/home/andrei/work/pit30m/out/size_analysis/4644d0d4-c4c9-4dad-dbaf-b66c4932178c/hdcam_12_middle_front_roof_wide/0000167...., \n",
      "'webp', 95, 0)\n"
     ]
    },
    {
     "name": "stderr",
     "output_type": "stream",
     "text": [
      "100%|██████████| 2500/2500 [1:01:18<00:00,  1.47s/it, webp q=90 m=1]\n",
      "  0%|          | 0/2500 [00:00<?, ?it/s, webp q=95 m=1]p q=90 m=3]]"
     ]
    },
    {
     "name": "stdout",
     "output_type": "stream",
     "text": [
      "____________________________________________run_configuration - 3679.2s, 61.3min\n",
      "________________________________________________________________________________\n",
      "[Memory] Calling __main__--tmp-ipykernel-3732551948.run_configuration...\n",
      "run_configuration([ PosixPath('/home/andrei/work/pit30m/out/size_analysis/f81c4def-1e47-4b83-cff8-3a8d2f9e5538/hdcam_10_port_front_roof_wide/0013469.webp'),\n",
      "  PosixPath('/home/andrei/work/pit30m/out/size_analysis/4644d0d4-c4c9-4dad-dbaf-b66c4932178c/hdcam_12_middle_front_roof_wide/0003797.webp'),\n",
      "  PosixPath('/home/andrei/work/pit30m/out/size_analysis/46d5d171-8471-441a-e67e-3d434949f8ea/hdcam_12_middle_front_roof_narrow_right/0022236.webp'),\n",
      "  PosixPath('/home/andrei/work/pit30m/out/size_analysis/9dd6c8d1-1461-459c-e2b8-92682ab1807e/hdcam_08_port_rear_roof_wide/0010315.webp'),\n",
      "  PosixPath('/home/andrei/work/pit30m/out/size_analysis/4644d0d4-c4c9-4dad-dbaf-b66c4932178c/hdcam_12_middle_front_roof_wide/0000167...., \n",
      "'webp', 95, 1)\n"
     ]
    },
    {
     "name": "stderr",
     "output_type": "stream",
     "text": [
      "100%|██████████| 2500/2500 [1:02:13<00:00,  1.49s/it, webp q=90 m=2]\n",
      "  3%|▎         | 75/2500 [01:49<58:39,  1.45s/it, webp q=95 m=1]=6]"
     ]
    },
    {
     "name": "stdout",
     "output_type": "stream",
     "text": [
      "____________________________________________run_configuration - 3733.8s, 62.2min\n",
      "________________________________________________________________________________\n",
      "[Memory] Calling __main__--tmp-ipykernel-3732551948.run_configuration...\n",
      "run_configuration([ PosixPath('/home/andrei/work/pit30m/out/size_analysis/f81c4def-1e47-4b83-cff8-3a8d2f9e5538/hdcam_10_port_front_roof_wide/0013469.webp'),\n",
      "  PosixPath('/home/andrei/work/pit30m/out/size_analysis/4644d0d4-c4c9-4dad-dbaf-b66c4932178c/hdcam_12_middle_front_roof_wide/0003797.webp'),\n",
      "  PosixPath('/home/andrei/work/pit30m/out/size_analysis/46d5d171-8471-441a-e67e-3d434949f8ea/hdcam_12_middle_front_roof_narrow_right/0022236.webp'),\n",
      "  PosixPath('/home/andrei/work/pit30m/out/size_analysis/9dd6c8d1-1461-459c-e2b8-92682ab1807e/hdcam_08_port_rear_roof_wide/0010315.webp'),\n",
      "  PosixPath('/home/andrei/work/pit30m/out/size_analysis/4644d0d4-c4c9-4dad-dbaf-b66c4932178c/hdcam_12_middle_front_roof_wide/0000167...., \n",
      "'webp', 95, 2)\n"
     ]
    },
    {
     "name": "stderr",
     "output_type": "stream",
     "text": [
      "100%|██████████| 2500/2500 [1:10:36<00:00,  1.69s/it, webp q=85 m=6]\n"
     ]
    },
    {
     "name": "stdout",
     "output_type": "stream",
     "text": [
      "____________________________________________run_configuration - 4236.4s, 70.6min\n",
      "________________________________________________________________________________\n",
      "[Memory] Calling __main__--tmp-ipykernel-3732551948.run_configuration...\n",
      "run_configuration([ PosixPath('/home/andrei/work/pit30m/out/size_analysis/f81c4def-1e47-4b83-cff8-3a8d2f9e5538/hdcam_10_port_front_roof_wide/0013469.webp'),\n",
      "  PosixPath('/home/andrei/work/pit30m/out/size_analysis/4644d0d4-c4c9-4dad-dbaf-b66c4932178c/hdcam_12_middle_front_roof_wide/0003797.webp'),\n",
      "  PosixPath('/home/andrei/work/pit30m/out/size_analysis/46d5d171-8471-441a-e67e-3d434949f8ea/hdcam_12_middle_front_roof_narrow_right/0022236.webp'),\n",
      "  PosixPath('/home/andrei/work/pit30m/out/size_analysis/9dd6c8d1-1461-459c-e2b8-92682ab1807e/hdcam_08_port_rear_roof_wide/0010315.webp'),\n",
      "  PosixPath('/home/andrei/work/pit30m/out/size_analysis/4644d0d4-c4c9-4dad-dbaf-b66c4932178c/hdcam_12_middle_front_roof_wide/0000167...., \n",
      "'webp', 95, 3)\n"
     ]
    },
    {
     "name": "stderr",
     "output_type": "stream",
     "text": [
      "100%|██████████| 2500/2500 [1:04:20<00:00,  1.54s/it, webp q=90 m=3]\n",
      "  0%|          | 0/2500 [00:00<?, ?it/s, webp q=95 m=4]bp q=95 m=3]"
     ]
    },
    {
     "name": "stdout",
     "output_type": "stream",
     "text": [
      "____________________________________________run_configuration - 3860.5s, 64.3min\n",
      "________________________________________________________________________________\n",
      "[Memory] Calling __main__--tmp-ipykernel-3732551948.run_configuration...\n",
      "run_configuration([ PosixPath('/home/andrei/work/pit30m/out/size_analysis/f81c4def-1e47-4b83-cff8-3a8d2f9e5538/hdcam_10_port_front_roof_wide/0013469.webp'),\n",
      "  PosixPath('/home/andrei/work/pit30m/out/size_analysis/4644d0d4-c4c9-4dad-dbaf-b66c4932178c/hdcam_12_middle_front_roof_wide/0003797.webp'),\n",
      "  PosixPath('/home/andrei/work/pit30m/out/size_analysis/46d5d171-8471-441a-e67e-3d434949f8ea/hdcam_12_middle_front_roof_narrow_right/0022236.webp'),\n",
      "  PosixPath('/home/andrei/work/pit30m/out/size_analysis/9dd6c8d1-1461-459c-e2b8-92682ab1807e/hdcam_08_port_rear_roof_wide/0010315.webp'),\n",
      "  PosixPath('/home/andrei/work/pit30m/out/size_analysis/4644d0d4-c4c9-4dad-dbaf-b66c4932178c/hdcam_12_middle_front_roof_wide/0000167...., \n",
      "'webp', 95, 4)\n"
     ]
    },
    {
     "name": "stderr",
     "output_type": "stream",
     "text": [
      "100%|██████████| 2500/2500 [1:04:23<00:00,  1.55s/it, webp q=90 m=4]\n",
      "  0%|          | 0/2500 [00:00<?, ?it/s, webp q=95 m=5] q=90 m=5]"
     ]
    },
    {
     "name": "stdout",
     "output_type": "stream",
     "text": [
      "____________________________________________run_configuration - 3863.6s, 64.4min\n",
      "________________________________________________________________________________\n",
      "[Memory] Calling __main__--tmp-ipykernel-3732551948.run_configuration...\n",
      "run_configuration([ PosixPath('/home/andrei/work/pit30m/out/size_analysis/f81c4def-1e47-4b83-cff8-3a8d2f9e5538/hdcam_10_port_front_roof_wide/0013469.webp'),\n",
      "  PosixPath('/home/andrei/work/pit30m/out/size_analysis/4644d0d4-c4c9-4dad-dbaf-b66c4932178c/hdcam_12_middle_front_roof_wide/0003797.webp'),\n",
      "  PosixPath('/home/andrei/work/pit30m/out/size_analysis/46d5d171-8471-441a-e67e-3d434949f8ea/hdcam_12_middle_front_roof_narrow_right/0022236.webp'),\n",
      "  PosixPath('/home/andrei/work/pit30m/out/size_analysis/9dd6c8d1-1461-459c-e2b8-92682ab1807e/hdcam_08_port_rear_roof_wide/0010315.webp'),\n",
      "  PosixPath('/home/andrei/work/pit30m/out/size_analysis/4644d0d4-c4c9-4dad-dbaf-b66c4932178c/hdcam_12_middle_front_roof_wide/0000167...., \n",
      "'webp', 95, 5)\n"
     ]
    },
    {
     "name": "stderr",
     "output_type": "stream",
     "text": [
      "100%|██████████| 2500/2500 [59:23<00:00,  1.43s/it, webp q=95 m=0]5]\n",
      " 91%|█████████▏| 2282/2500 [55:44<05:17,  1.45s/it, webp q=95 m=1]"
     ]
    },
    {
     "name": "stdout",
     "output_type": "stream",
     "text": [
      "____________________________________________run_configuration - 3563.6s, 59.4min\n",
      "________________________________________________________________________________\n",
      "[Memory] Calling __main__--tmp-ipykernel-3732551948.run_configuration...\n",
      "run_configuration([ PosixPath('/home/andrei/work/pit30m/out/size_analysis/f81c4def-1e47-4b83-cff8-3a8d2f9e5538/hdcam_10_port_front_roof_wide/0013469.webp'),\n",
      "  PosixPath('/home/andrei/work/pit30m/out/size_analysis/4644d0d4-c4c9-4dad-dbaf-b66c4932178c/hdcam_12_middle_front_roof_wide/0003797.webp'),\n",
      "  PosixPath('/home/andrei/work/pit30m/out/size_analysis/46d5d171-8471-441a-e67e-3d434949f8ea/hdcam_12_middle_front_roof_narrow_right/0022236.webp'),\n",
      "  PosixPath('/home/andrei/work/pit30m/out/size_analysis/9dd6c8d1-1461-459c-e2b8-92682ab1807e/hdcam_08_port_rear_roof_wide/0010315.webp'),\n",
      "  PosixPath('/home/andrei/work/pit30m/out/size_analysis/4644d0d4-c4c9-4dad-dbaf-b66c4932178c/hdcam_12_middle_front_roof_wide/0000167...., \n",
      "'webp', 95, 6)\n"
     ]
    },
    {
     "name": "stderr",
     "output_type": "stream",
     "text": [
      "100%|██████████| 2500/2500 [1:04:04<00:00,  1.54s/it, webp q=90 m=5]\n",
      "  0%|          | 0/2500 [00:00<?, ?it/s, webp q=100 m=0] q=95 m=2]"
     ]
    },
    {
     "name": "stdout",
     "output_type": "stream",
     "text": [
      "____________________________________________run_configuration - 3845.1s, 64.1min\n",
      "________________________________________________________________________________\n",
      "[Memory] Calling __main__--tmp-ipykernel-3732551948.run_configuration...\n",
      "run_configuration([ PosixPath('/home/andrei/work/pit30m/out/size_analysis/f81c4def-1e47-4b83-cff8-3a8d2f9e5538/hdcam_10_port_front_roof_wide/0013469.webp'),\n",
      "  PosixPath('/home/andrei/work/pit30m/out/size_analysis/4644d0d4-c4c9-4dad-dbaf-b66c4932178c/hdcam_12_middle_front_roof_wide/0003797.webp'),\n",
      "  PosixPath('/home/andrei/work/pit30m/out/size_analysis/46d5d171-8471-441a-e67e-3d434949f8ea/hdcam_12_middle_front_roof_narrow_right/0022236.webp'),\n",
      "  PosixPath('/home/andrei/work/pit30m/out/size_analysis/9dd6c8d1-1461-459c-e2b8-92682ab1807e/hdcam_08_port_rear_roof_wide/0010315.webp'),\n",
      "  PosixPath('/home/andrei/work/pit30m/out/size_analysis/4644d0d4-c4c9-4dad-dbaf-b66c4932178c/hdcam_12_middle_front_roof_wide/0000167...., \n",
      "'webp', 100, 0)\n"
     ]
    },
    {
     "name": "stderr",
     "output_type": "stream",
     "text": [
      "100%|██████████| 2500/2500 [1:00:57<00:00,  1.46s/it, webp q=95 m=1]\n",
      " 81%|████████  | 2029/2500 [52:34<12:00,  1.53s/it, webp q=95 m=4]"
     ]
    },
    {
     "name": "stdout",
     "output_type": "stream",
     "text": [
      "____________________________________________run_configuration - 3657.5s, 61.0min\n",
      "________________________________________________________________________________\n",
      "[Memory] Calling __main__--tmp-ipykernel-3732551948.run_configuration...\n",
      "run_configuration([ PosixPath('/home/andrei/work/pit30m/out/size_analysis/f81c4def-1e47-4b83-cff8-3a8d2f9e5538/hdcam_10_port_front_roof_wide/0013469.webp'),\n",
      "  PosixPath('/home/andrei/work/pit30m/out/size_analysis/4644d0d4-c4c9-4dad-dbaf-b66c4932178c/hdcam_12_middle_front_roof_wide/0003797.webp'),\n",
      "  PosixPath('/home/andrei/work/pit30m/out/size_analysis/46d5d171-8471-441a-e67e-3d434949f8ea/hdcam_12_middle_front_roof_narrow_right/0022236.webp'),\n",
      "  PosixPath('/home/andrei/work/pit30m/out/size_analysis/9dd6c8d1-1461-459c-e2b8-92682ab1807e/hdcam_08_port_rear_roof_wide/0010315.webp'),\n",
      "  PosixPath('/home/andrei/work/pit30m/out/size_analysis/4644d0d4-c4c9-4dad-dbaf-b66c4932178c/hdcam_12_middle_front_roof_wide/0000167...., \n",
      "'webp', 100, 1)\n"
     ]
    },
    {
     "name": "stderr",
     "output_type": "stream",
     "text": [
      "100%|██████████| 2500/2500 [1:00:44<00:00,  1.46s/it, webp q=95 m=2]\n",
      " 89%|████████▉ | 2223/2500 [57:04<06:46,  1.47s/it, webp q=95 m=3]]"
     ]
    },
    {
     "name": "stdout",
     "output_type": "stream",
     "text": [
      "____________________________________________run_configuration - 3645.0s, 60.8min\n",
      "________________________________________________________________________________\n",
      "[Memory] Calling __main__--tmp-ipykernel-3732551948.run_configuration...\n",
      "run_configuration([ PosixPath('/home/andrei/work/pit30m/out/size_analysis/f81c4def-1e47-4b83-cff8-3a8d2f9e5538/hdcam_10_port_front_roof_wide/0013469.webp'),\n",
      "  PosixPath('/home/andrei/work/pit30m/out/size_analysis/4644d0d4-c4c9-4dad-dbaf-b66c4932178c/hdcam_12_middle_front_roof_wide/0003797.webp'),\n",
      "  PosixPath('/home/andrei/work/pit30m/out/size_analysis/46d5d171-8471-441a-e67e-3d434949f8ea/hdcam_12_middle_front_roof_narrow_right/0022236.webp'),\n",
      "  PosixPath('/home/andrei/work/pit30m/out/size_analysis/9dd6c8d1-1461-459c-e2b8-92682ab1807e/hdcam_08_port_rear_roof_wide/0010315.webp'),\n",
      "  PosixPath('/home/andrei/work/pit30m/out/size_analysis/4644d0d4-c4c9-4dad-dbaf-b66c4932178c/hdcam_12_middle_front_roof_wide/0000167...., \n",
      "'webp', 100, 2)\n"
     ]
    },
    {
     "name": "stderr",
     "output_type": "stream",
     "text": [
      "100%|██████████| 2500/2500 [1:12:03<00:00,  1.73s/it, webp q=90 m=6]\n",
      "  0%|          | 0/2500 [00:00<?, ?it/s, webp q=100 m=3] q=95 m=5]"
     ]
    },
    {
     "name": "stdout",
     "output_type": "stream",
     "text": [
      "____________________________________________run_configuration - 4323.4s, 72.1min\n",
      "________________________________________________________________________________\n",
      "[Memory] Calling __main__--tmp-ipykernel-3732551948.run_configuration...\n",
      "run_configuration([ PosixPath('/home/andrei/work/pit30m/out/size_analysis/f81c4def-1e47-4b83-cff8-3a8d2f9e5538/hdcam_10_port_front_roof_wide/0013469.webp'),\n",
      "  PosixPath('/home/andrei/work/pit30m/out/size_analysis/4644d0d4-c4c9-4dad-dbaf-b66c4932178c/hdcam_12_middle_front_roof_wide/0003797.webp'),\n",
      "  PosixPath('/home/andrei/work/pit30m/out/size_analysis/46d5d171-8471-441a-e67e-3d434949f8ea/hdcam_12_middle_front_roof_narrow_right/0022236.webp'),\n",
      "  PosixPath('/home/andrei/work/pit30m/out/size_analysis/9dd6c8d1-1461-459c-e2b8-92682ab1807e/hdcam_08_port_rear_roof_wide/0010315.webp'),\n",
      "  PosixPath('/home/andrei/work/pit30m/out/size_analysis/4644d0d4-c4c9-4dad-dbaf-b66c4932178c/hdcam_12_middle_front_roof_wide/0000167...., \n",
      "'webp', 100, 3)\n"
     ]
    },
    {
     "name": "stderr",
     "output_type": "stream",
     "text": [
      "100%|██████████| 2500/2500 [1:04:01<00:00,  1.54s/it, webp q=95 m=3]\n",
      " 14%|█▍        | 353/2500 [08:34<51:37,  1.44s/it, webp q=100 m=1]]"
     ]
    },
    {
     "name": "stdout",
     "output_type": "stream",
     "text": [
      "____________________________________________run_configuration - 3842.1s, 64.0min\n",
      "________________________________________________________________________________\n",
      "[Memory] Calling __main__--tmp-ipykernel-3732551948.run_configuration...\n",
      "run_configuration([ PosixPath('/home/andrei/work/pit30m/out/size_analysis/f81c4def-1e47-4b83-cff8-3a8d2f9e5538/hdcam_10_port_front_roof_wide/0013469.webp'),\n",
      "  PosixPath('/home/andrei/work/pit30m/out/size_analysis/4644d0d4-c4c9-4dad-dbaf-b66c4932178c/hdcam_12_middle_front_roof_wide/0003797.webp'),\n",
      "  PosixPath('/home/andrei/work/pit30m/out/size_analysis/46d5d171-8471-441a-e67e-3d434949f8ea/hdcam_12_middle_front_roof_narrow_right/0022236.webp'),\n",
      "  PosixPath('/home/andrei/work/pit30m/out/size_analysis/9dd6c8d1-1461-459c-e2b8-92682ab1807e/hdcam_08_port_rear_roof_wide/0010315.webp'),\n",
      "  PosixPath('/home/andrei/work/pit30m/out/size_analysis/4644d0d4-c4c9-4dad-dbaf-b66c4932178c/hdcam_12_middle_front_roof_wide/0000167...., \n",
      "'webp', 100, 4)\n"
     ]
    },
    {
     "name": "stderr",
     "output_type": "stream",
     "text": [
      "100%|██████████| 2500/2500 [1:04:29<00:00,  1.55s/it, webp q=95 m=4]\n",
      "  0%|          | 0/2500 [00:00<?, ?it/s, webp q=100 m=5]p q=100 m=4]"
     ]
    },
    {
     "name": "stdout",
     "output_type": "stream",
     "text": [
      "____________________________________________run_configuration - 3869.9s, 64.5min\n",
      "________________________________________________________________________________\n",
      "[Memory] Calling __main__--tmp-ipykernel-3732551948.run_configuration...\n",
      "run_configuration([ PosixPath('/home/andrei/work/pit30m/out/size_analysis/f81c4def-1e47-4b83-cff8-3a8d2f9e5538/hdcam_10_port_front_roof_wide/0013469.webp'),\n",
      "  PosixPath('/home/andrei/work/pit30m/out/size_analysis/4644d0d4-c4c9-4dad-dbaf-b66c4932178c/hdcam_12_middle_front_roof_wide/0003797.webp'),\n",
      "  PosixPath('/home/andrei/work/pit30m/out/size_analysis/46d5d171-8471-441a-e67e-3d434949f8ea/hdcam_12_middle_front_roof_narrow_right/0022236.webp'),\n",
      "  PosixPath('/home/andrei/work/pit30m/out/size_analysis/9dd6c8d1-1461-459c-e2b8-92682ab1807e/hdcam_08_port_rear_roof_wide/0010315.webp'),\n",
      "  PosixPath('/home/andrei/work/pit30m/out/size_analysis/4644d0d4-c4c9-4dad-dbaf-b66c4932178c/hdcam_12_middle_front_roof_wide/0000167...., \n",
      "'webp', 100, 5)\n"
     ]
    },
    {
     "name": "stderr",
     "output_type": "stream",
     "text": [
      "100%|██████████| 2500/2500 [1:05:05<00:00,  1.56s/it, webp q=95 m=5]\n",
      " 40%|███▉      | 993/2500 [23:12<34:27,  1.37s/it, webp q=100 m=0]"
     ]
    },
    {
     "name": "stdout",
     "output_type": "stream",
     "text": [
      "____________________________________________run_configuration - 3906.3s, 65.1min\n",
      "________________________________________________________________________________\n",
      "[Memory] Calling __main__--tmp-ipykernel-3732551948.run_configuration...\n",
      "run_configuration([ PosixPath('/home/andrei/work/pit30m/out/size_analysis/f81c4def-1e47-4b83-cff8-3a8d2f9e5538/hdcam_10_port_front_roof_wide/0013469.webp'),\n",
      "  PosixPath('/home/andrei/work/pit30m/out/size_analysis/4644d0d4-c4c9-4dad-dbaf-b66c4932178c/hdcam_12_middle_front_roof_wide/0003797.webp'),\n",
      "  PosixPath('/home/andrei/work/pit30m/out/size_analysis/46d5d171-8471-441a-e67e-3d434949f8ea/hdcam_12_middle_front_roof_narrow_right/0022236.webp'),\n",
      "  PosixPath('/home/andrei/work/pit30m/out/size_analysis/9dd6c8d1-1461-459c-e2b8-92682ab1807e/hdcam_08_port_rear_roof_wide/0010315.webp'),\n",
      "  PosixPath('/home/andrei/work/pit30m/out/size_analysis/4644d0d4-c4c9-4dad-dbaf-b66c4932178c/hdcam_12_middle_front_roof_wide/0000167...., \n",
      "'webp', 100, 6)\n"
     ]
    },
    {
     "name": "stderr",
     "output_type": "stream",
     "text": [
      "100%|██████████| 2500/2500 [57:31<00:00,  1.38s/it, webp q=100 m=0] \n",
      " 98%|█████████▊| 2452/2500 [57:38<00:56,  1.19s/it, webp q=100 m=1]]"
     ]
    },
    {
     "name": "stdout",
     "output_type": "stream",
     "text": [
      "____________________________________________run_configuration - 3452.1s, 57.5min\n"
     ]
    },
    {
     "name": "stderr",
     "output_type": "stream",
     "text": [
      "100%|██████████| 2500/2500 [58:36<00:00,  1.41s/it, webp q=100 m=1]]\n",
      "100%|██████████| 2500/2500 [57:41<00:00,  1.38s/it, webp q=100 m=2]]\n",
      " 95%|█████████▌| 2386/2500 [56:10<01:40,  1.14it/s, webp q=100 m=3]]"
     ]
    },
    {
     "name": "stdout",
     "output_type": "stream",
     "text": [
      "____________________________________________run_configuration - 3516.6s, 58.6min\n"
     ]
    },
    {
     "name": "stderr",
     "output_type": "stream",
     "text": [
      " 62%|██████▏   | 1546/2500 [45:59<21:39,  1.36s/it, webp q=100 m=6]]"
     ]
    },
    {
     "name": "stdout",
     "output_type": "stream",
     "text": [
      "____________________________________________run_configuration - 3461.6s, 57.7min\n"
     ]
    },
    {
     "name": "stderr",
     "output_type": "stream",
     "text": [
      "100%|██████████| 2500/2500 [1:10:32<00:00,  1.69s/it, webp q=95 m=6]\n",
      "100%|██████████| 2500/2500 [57:56<00:00,  1.39s/it, webp q=100 m=3]\n",
      "100%|██████████| 2500/2500 [57:13<00:00,  1.37s/it, webp q=100 m=4]\n",
      "100%|██████████| 2500/2500 [56:15<00:00,  1.35s/it, webp q=100 m=5]\n",
      " 76%|███████▌  | 1894/2500 [51:59<09:29,  1.06it/s, webp q=100 m=6]"
     ]
    },
    {
     "name": "stdout",
     "output_type": "stream",
     "text": [
      "____________________________________________run_configuration - 4232.3s, 70.5min\n"
     ]
    },
    {
     "name": "stderr",
     "output_type": "stream",
     "text": [
      " 76%|███████▌  | 1898/2500 [52:02<09:13,  1.09it/s, webp q=100 m=6]"
     ]
    },
    {
     "name": "stdout",
     "output_type": "stream",
     "text": [
      "____________________________________________run_configuration - 3476.8s, 57.9min\n"
     ]
    },
    {
     "name": "stderr",
     "output_type": "stream",
     "text": [
      " 77%|███████▋  | 1925/2500 [52:28<08:52,  1.08it/s, webp q=100 m=6]"
     ]
    },
    {
     "name": "stdout",
     "output_type": "stream",
     "text": [
      "____________________________________________run_configuration - 3433.3s, 57.2min\n"
     ]
    },
    {
     "name": "stderr",
     "output_type": "stream",
     "text": [
      " 83%|████████▎ | 2076/2500 [54:50<06:52,  1.03it/s, webp q=100 m=6]"
     ]
    },
    {
     "name": "stdout",
     "output_type": "stream",
     "text": [
      "____________________________________________run_configuration - 3375.6s, 56.3min\n"
     ]
    },
    {
     "name": "stderr",
     "output_type": "stream",
     "text": [
      " 93%|█████████▎| 2321/2500 [58:37<02:49,  1.06it/s, webp q=100 m=6]"
     ]
    }
   ],
   "source": [
    "\n",
    "# Default in scikit-image and in libvmaf, which means it's likely a reasonable default.\n",
    "# ffmpeg uses 8x8 windows, so close to this too. See: https://arxiv.org/pdf/2101.06354.pdf\n",
    "ssim_win_size = 11\n",
    "\n",
    "@memory.cache()\n",
    "def run_configuration(all_images, format, quality, method):\n",
    "    # NOTE: For webm 'method = 4' is the default, with lower being faster\n",
    "\n",
    "    fpaths = []\n",
    "    encode_times = []\n",
    "    decode_times = []\n",
    "    psnrs = []\n",
    "    ssims = []\n",
    "    sizes_b = []\n",
    "\n",
    "    for fpath in tqdm(all_images, postfix=f\"{format} q={quality} m={method}\"):\n",
    "        image = Image.open(fpath)\n",
    "        \n",
    "        with io.BytesIO() as f:\n",
    "            start_ts = time.time()\n",
    "            if format == \"webp\":\n",
    "                image.save(f, format=format, quality=quality, method=method)\n",
    "            else:\n",
    "                # JPEG does not have 'method' to tweak encoding speed.\n",
    "                image.save(f, format=format, quality=quality)\n",
    "            encode_time = time.time() - start_ts\n",
    "            encode_times.append(encode_time)\n",
    "            n_bytes = len(f.getbuffer())\n",
    "\n",
    "            f.seek(0)\n",
    "            decode_start_ts = time.time()\n",
    "            reloaded_compressed_np = np.asarray(Image.open(f))\n",
    "            decode_time = time.time() - decode_start_ts\n",
    "            decode_times.append(decode_time)\n",
    "            original_np = np.asarray(image)\n",
    "            psnr_db = skm.peak_signal_noise_ratio(original_np, reloaded_compressed_np)\n",
    "#             print(original_np.shape)\n",
    "#             print(reloaded_compressed_np.shape)\n",
    "            # NOTE(andrei): SSIM right now is a bit slow...\n",
    "            ssim = skm.structural_similarity(original_np, reloaded_compressed_np, \n",
    "                                             win_size=ssim_win_size, channel_axis=2)\n",
    "#             ssim = -1\n",
    "\n",
    "            fpaths.append(fpath)\n",
    "            sizes_b.append(n_bytes)\n",
    "            psnrs.append(psnr_db)\n",
    "            ssims.append(ssim)\n",
    "\n",
    "#             plt.figure(figsize=(20, 8))\n",
    "#             plt.imshow(reloaded_compressed_np)\n",
    "\n",
    "    return fpaths, encode_times, decode_times, psnrs, ssims, sizes_b\n",
    "\n",
    "configs = []\n",
    "for format in [\"jpeg\", \"webp\"]:\n",
    "    for quality in [65, 70, 75, 80, 85, 90, 95, 100]:\n",
    "        meths = [-1] if format == \"jpeg\" else [0, 1, 2, 3, 4, 5, 6]\n",
    "        for method in meths:\n",
    "            configs.append((format, quality, method))\n",
    " \n",
    "\n",
    "# Run the main experiment multithreaded, then do the timing analysis separately, or reload the\n",
    "# older experiment you ran single-threaded. We mostly care about the SSIM for this parallelized run,\n",
    "# since SSIM is slow AF to compute.\n",
    "pool = Parallel(n_jobs=8)\n",
    "results = pool(delayed(run_configuration)(image_fpaths, format, quality, method)\n",
    "               for format, quality, method in configs)\n",
    "# results[(format, quality, method)] = \\\n",
    "#                 run_configuration(image_fpaths, format=format,\n",
    "#                                   quality=quality, method=method)"
   ]
  },
  {
   "cell_type": "code",
   "execution_count": null,
   "id": "a2337321",
   "metadata": {},
   "outputs": [],
   "source": [
    "import pickle as pkl\n",
    "\n",
    "with open(\"/home/andrei/work/pit30m/compression-blog-results-4k-2022-11-08.pkl\", \"rb\") as f:\n",
    "    # Get the timing info from here\n",
    "    results_11_08 = pkl.load(f)"
   ]
  },
  {
   "cell_type": "code",
   "execution_count": null,
   "id": "45ffd1e0",
   "metadata": {
    "scrolled": false
   },
   "outputs": [],
   "source": [
    "# Let's plot PSNR vs. quality (pretty predictible)\n",
    "# \n",
    "# Box plots would be interesting in case there's some configs which cause unexpected spread\n",
    "%matplotlib notebook\n",
    "from collections import defaultdict\n",
    "\n",
    "plot = defaultdict(lambda: defaultdict(dict))\n",
    "size_plot = defaultdict(lambda: defaultdict(dict))\n",
    "compression_speed_plot = defaultdict(lambda: defaultdict(dict))\n",
    "decompression_speed_plot = defaultdict(lambda: defaultdict(dict))\n",
    "\n",
    "# Buffer for timing metrics, ignore the first and last 'buffer' measurements\n",
    "buffer = 3\n",
    "\n",
    "# Track all fpaths even if redundant to make it easier to datamine and grab specific images, e.g.\n",
    "# high filesize but low PSNR images (hard to compress).\n",
    "all_fpaths = []\n",
    "all_psnrs = []\n",
    "all_sizes_b = []\n",
    "all_qs = []\n",
    "all_methods = []\n",
    "\n",
    "for (fmt, quality, method), (fpaths, enc_t, dec_t, psnrs, ssims, sizes_b) in results.items():\n",
    "    assert quality not in plot\n",
    "    enc_t_b = enc_t[buffer:-buffer]\n",
    "    dec_t_b = dec_t[buffer:-buffer]\n",
    "    decompression_speed_plot[fmt][method][quality] = np.mean(dec_t_b), np.std(dec_t_b)\n",
    "    compression_speed_plot[fmt][method][quality] = np.mean(enc_t_b), np.std(enc_t_b)\n",
    "    \n",
    "    plot[fmt][method][quality] = np.mean(psnrs), np.std(psnrs)\n",
    "    size_plot[fmt][method][quality] = np.mean(sizes_b), np.std(sizes_b)\n",
    "\n",
    "    all_fpaths += fpaths\n",
    "    all_sizes_b += sizes_b\n",
    "    all_psnrs += psnrs\n",
    "    all_qs += [quality] * len(psnrs)\n",
    "    all_methods += [method] * len(psnrs)\n",
    "    \n",
    "    \n",
    "all_sizes_b = np.array(all_sizes_b)\n",
    "all_psnrs = np.array(all_psnrs)\n",
    "all_qs = np.array(all_qs)\n",
    "all_methods = np.array(all_methods)\n",
    "    \n",
    "plt.figure()\n",
    "for fmt in plot:\n",
    "    for method in plot[fmt]:\n",
    "        xx, yy, yerr = [], [], []\n",
    "        for q, (mean_psnr, std) in plot[fmt][method].items():\n",
    "            xx.append(q)\n",
    "            yy.append(mean_psnr)\n",
    "            yerr.append(std)\n",
    "\n",
    "        label = f\"Method: {method} @ {fmt}\"\n",
    "        m = '' if fmt == \"webp\" else \"^\"\n",
    "        if method == 2:\n",
    "            # For debug\n",
    "            m = 'o'\n",
    "    #     plt.errorbar(xx, yy, yerr=yerr, capsize=10, label=label)\n",
    "        plt.plot(xx, yy, label=label, marker=m)\n",
    "       \n",
    "\n",
    "\n",
    "plt.xlabel(\"WebP quality parameter\")\n",
    "plt.ylabel(\"Resulting mean PSNR over dataset\")\n",
    "# plt.ylim(30, 50)\n",
    "plt.legend()\n",
    "plt.grid(\"on\")\n",
    "\n",
    "plt.figure()\n",
    "for fmt in size_plot:\n",
    "    for method in size_plot[fmt]:\n",
    "        xx, yy, yerr = [], [], []\n",
    "        for q, (mean_sz, std) in size_plot[fmt][method].items():\n",
    "            xx.append(q)\n",
    "            yy.append(mean_sz/1024)\n",
    "            yerr.append(std/1024)\n",
    "        label = f\"Format: {fmt}, Method: {method}\"\n",
    "        m = '' if fmt == \"webp\" else \"^\"\n",
    "    #     plt.errorbar(xx, yy, yerr=yerr, capsize=10, label=label)\n",
    "        plt.plot(xx, yy, label=label, marker=m)\n",
    "        \n",
    "plt.xlabel(\"WebP quality parameter\")\n",
    "plt.ylabel(\"File size, KiB\")\n",
    "plt.ylim(0, 1024)\n",
    "plt.legend()\n",
    "plt.grid(\"on\")\n",
    "plt.tight_layout()\n",
    "\n",
    "\n",
    "plt.figure()\n",
    "for fmt in compression_speed_plot:\n",
    "    for method in compression_speed_plot[fmt]:\n",
    "        xx, yy, yerr = [], [], []\n",
    "        for q, (mean_sz, std) in compression_speed_plot[fmt][method].items():\n",
    "            xx.append(q)\n",
    "            yy.append(mean_sz * 1000)\n",
    "            yerr.append(std * 1000)\n",
    "        label = f\"Method: {method}, fmt = {fmt}\"\n",
    "        m = '' if fmt == \"webp\" else \"^\"\n",
    "#         plt.errorbar(xx, yy, yerr=yerr, capsize=10, label=label, marker=m)\n",
    "        plt.plot(xx, yy, label=label, marker=m)\n",
    "        \n",
    "plt.xlabel(\"WebP quality parameter\")\n",
    "plt.ylabel(\"Compression speed (ms)\")\n",
    "\n",
    "plt.ylim(0, 300)\n",
    "plt.legend()\n",
    "plt.grid(\"on\")\n",
    "plt.tight_layout()\n",
    "\n",
    "#\n",
    "# Space as a function of method (WebP-specific)\n",
    "#\n",
    "plt.figure()\n",
    "for compression_level in size_plot[\"webp\"][3]:\n",
    "    for fmt in [\"webp\"]:\n",
    "        xx, yy, yerr = [], [], []\n",
    "        for method in size_plot[fmt]:\n",
    "            mean_sz, std = size_plot[fmt][method][compression_level]\n",
    "            xx.append(method)\n",
    "            yy.append(mean_sz / 1024)\n",
    "            yerr.append(std / 1024)\n",
    "\n",
    "        label = f\"Format: {fmt}, Quality: {compression_level}\"\n",
    "        plt.errorbar(xx, yy, yerr=yerr, capsize=10, label=label)\n",
    "\n",
    "# TODO(andrei): Roughly map method to time factor (absolute difference depends on quality)\n",
    "plt.xlabel(\"Method (i.e. computational budget)\")\n",
    "plt.ylabel(\"Mean size (KiB)\")\n",
    "plt.legend()\n",
    "plt.grid(\"on\")\n",
    "plt.tight_layout()\n"
   ]
  },
  {
   "cell_type": "code",
   "execution_count": null,
   "id": "7f132240",
   "metadata": {},
   "outputs": [],
   "source": [
    "\n",
    "    \n",
    "plt.figure()\n",
    "for fmt in decompression_speed_plot:\n",
    "    for method in decompression_speed_plot[fmt]:\n",
    "        if fmt == \"jpeg\" and method != -1:\n",
    "            continue\n",
    "            \n",
    "        xx, yy, yerr = [], [], []\n",
    "        for q, (mean_sz, std) in decompression_speed_plot[fmt][method].items():\n",
    "            xx.append(q)\n",
    "            yy.append(mean_sz * 1000)\n",
    "            yerr.append(std * 1000)\n",
    "        label = f\"Method: {fmt} / {method}\"\n",
    "#         plt.errorbar(xx, yy, yerr=yerr, capsize=10, label=label)\n",
    "        m = '' if fmt == \"webp\" else \"^\"\n",
    "        plt.plot(xx, yy, label=label, marker=m)\n",
    "        \n",
    "plt.xlabel(\"WebP / JPEG quality parameter\")\n",
    "plt.ylabel(\"Decompression time (ms)\")\n",
    "\n",
    "plt.ylim(0, 50)\n",
    "plt.legend()\n",
    "plt.grid(\"on\")\n",
    "plt.tight_layout()"
   ]
  },
  {
   "cell_type": "code",
   "execution_count": null,
   "id": "1d685d75",
   "metadata": {},
   "outputs": [],
   "source": [
    "# Mean size for each PSNR bucket\n",
    "psnr_bins = np.linspace(32, 45, num=10)\n",
    "\n",
    "for q in [100, 95, 90, 85, 80]:\n",
    "    foo = all_psnrs[(all_qs == q) & (all_methods == 3)]\n",
    "    bar = all_sizes_b[(all_qs == q) & (all_methods == 3)]\n",
    "\n",
    "    idxs = np.digitize(foo, psnr_bins)\n",
    "\n",
    "    res = []\n",
    "    res_std = []\n",
    "    for bidx, bin in enumerate(psnr_bins):\n",
    "        res.append(np.mean(bar[idxs == bidx]) / 1024)\n",
    "        res_std.append(np.std(bar[idxs == bidx]) / 1024)\n",
    "\n",
    "    plt.errorbar(psnr_bins, res, yerr=res_std, capsize=8, label=f\"{q = }\")\n",
    "    \n",
    "plt.legend()\n",
    "plt.xlabel(\"PSNR\")\n",
    "plt.ylabel(\"Size (KiB)\")\n",
    "plt.ylim(0, 1024)"
   ]
  },
  {
   "cell_type": "code",
   "execution_count": null,
   "id": "0627ac48",
   "metadata": {},
   "outputs": [],
   "source": []
  },
  {
   "cell_type": "code",
   "execution_count": null,
   "id": "0579496d",
   "metadata": {
    "scrolled": false
   },
   "outputs": [],
   "source": [
    "#\n",
    "# PSNR vs. File Size\n",
    "#\n",
    "print(len(all_sizes_b))\n",
    "print(len(all_psnrs))\n",
    "c = all_qs\n",
    "ax = plt.scatter(all_psnrs, np.array(all_sizes_b) / 1024, c=c, s=0.1) \n",
    "plt.colorbar(ax)\n",
    "plt.ylim(0, 1024)\n",
    "plt.xlabel(\"PSNR\")\n",
    "plt.ylabel(\"File Size (KiB)\")\n",
    "plt.title(\"Colored by WebP quality\")"
   ]
  },
  {
   "cell_type": "markdown",
   "id": "d537821f",
   "metadata": {},
   "source": [
    "### Some conclusion\n",
    " - initial storage analysis used WebP method 4 at q=85\n",
    " - using JPEG at q85 would increase image space by 50% so we probably can't afford it :(\n",
    "    - current estimate sits at roughly 160TiB conservatively.\n",
    "    - images become ~50% of the storage if q=85 webp\n",
    "    - if we increase image size by 50%, increase total storage by 25%, so ~200TiB, still within the 300TiB\n",
    "    - jpeg at 90 means ~400k images, 100% increase in images, 50% total, so 240TiB, may be a little too much\n",
    "\n",
    " - for webp max compression use at least method = 2\n",
    " - for webp, method = 2 is an outlier in terms of PSNR... either use method = 3 or 0/1\n",
    "     - of course 0/1 will produce larger files, but not by a lot \n",
    "     - prioritize PSNR over very tiny files!\n",
    " - method 3 and 4 are identical in compression speed!\n",
    " - method 2 is way faster than 3, ~2.3x faster\n",
    " - method 1 is is 3x faster than 3 ---> we should use '1'\n",
    "     - storage of method 1 vs. JPEG: 307 --> 250kb, though JPEG PSNR at q=85 is higher\n",
    "     \n",
    "     \n",
    "=> just do method=1 webp at q=90, instead of 2/4 at q=85."
   ]
  },
  {
   "cell_type": "markdown",
   "id": "7d0a8702",
   "metadata": {},
   "source": [
    "# Detailed PSNR analysis\n",
    "\n",
    "Maybe look at CDFs? Find outliers where there are huge PSNR gaps between methods?"
   ]
  },
  {
   "cell_type": "code",
   "execution_count": null,
   "id": "e671d736",
   "metadata": {},
   "outputs": [],
   "source": [
    "# Find outliers\n",
    "high_file_low_psnr = (all_qs == 85) & (all_methods == 3) & (all_sizes_b > 600) & (all_psnrs < 40)\n",
    "high_file_low_psnr.sum(), \"matches\""
   ]
  }
 ],
 "metadata": {
  "kernelspec": {
   "display_name": "Python 3 (ipykernel)",
   "language": "python",
   "name": "python3"
  },
  "language_info": {
   "codemirror_mode": {
    "name": "ipython",
    "version": 3
   },
   "file_extension": ".py",
   "mimetype": "text/x-python",
   "name": "python",
   "nbconvert_exporter": "python",
   "pygments_lexer": "ipython3",
   "version": "3.9.0"
  }
 },
 "nbformat": 4,
 "nbformat_minor": 5
}
